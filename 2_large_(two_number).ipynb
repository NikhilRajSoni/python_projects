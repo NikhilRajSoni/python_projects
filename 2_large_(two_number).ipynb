{
 "cells": [
  {
   "cell_type": "markdown",
   "metadata": {},
   "source": [
    "2. Given two integers, find the larger one."
   ]
  },
  {
   "cell_type": "code",
   "execution_count": 15,
   "metadata": {},
   "outputs": [
    {
     "name": "stdout",
     "output_type": "stream",
     "text": [
      "int_1 = -23 and int_2 = -23 are equal integers.\n"
     ]
    }
   ],
   "source": [
    "#METHOD 1\n",
    "# Taking two integers one by one\n",
    "int_1 = int(input(\"Enter any first integer: \"))\n",
    "int_2 = int(input(\"Enter any second integer: \"))\n",
    "# Comparing if int_1 is greater\n",
    "if int_1 > int_2:\n",
    "    print(int_1,\"is larger than\",int_2)\n",
    "# if int_2 is greater    \n",
    "elif int_2 > int_1:\n",
    "    print(int_2,\"is larger than\",int_1)\n",
    "# if both integers are equal    \n",
    "else:\n",
    "    print(\"int_1 =\",int_1,\"and int_2 =\",int_2,\"are equal integers.\")   "
   ]
  },
  {
   "cell_type": "code",
   "execution_count": 2,
   "metadata": {},
   "outputs": [
    {
     "data": {
      "text/plain": [
       "(23, 'is larger than', 18)"
      ]
     },
     "execution_count": 2,
     "metadata": {},
     "output_type": "execute_result"
    }
   ],
   "source": [
    "# METHOD 2\n",
    "# Defining function for taking two integers \n",
    "def large_int(x,y):\n",
    "    if x > y:   # if x is greater\n",
    "        return x,\"is larger than\",y\n",
    "    elif x < y: # if y is greater\n",
    "        return y,\"is larger than\",x\n",
    "    else:       # if both x and y are equal\n",
    "        return x,\"and\",y,\"both are equal integer.\"\n",
    "    \n",
    "large_int(23,18)   "
   ]
  }
 ],
 "metadata": {
  "kernelspec": {
   "display_name": "Python 3",
   "language": "python",
   "name": "python3"
  },
  "language_info": {
   "codemirror_mode": {
    "name": "ipython",
    "version": 3
   },
   "file_extension": ".py",
   "mimetype": "text/x-python",
   "name": "python",
   "nbconvert_exporter": "python",
   "pygments_lexer": "ipython3",
   "version": "3.11.4"
  }
 },
 "nbformat": 4,
 "nbformat_minor": 2
}
