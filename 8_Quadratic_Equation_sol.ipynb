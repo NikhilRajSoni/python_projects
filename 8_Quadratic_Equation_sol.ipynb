{
 "cells": [
  {
   "cell_type": "markdown",
   "metadata": {},
   "source": [
    "8. Given a quadratic equation with coefficients a, b and c, find the two solutions (may be real or complex). You should not take the square root of a negative number in your code."
   ]
  },
  {
   "cell_type": "code",
   "execution_count": 1,
   "metadata": {},
   "outputs": [
    {
     "name": "stdout",
     "output_type": "stream",
     "text": [
      "Entered Linear Equation is:  9.0 x + 8.0 = 0\n",
      "Linear Equation which satisfies x = -0.8888888888888888\n"
     ]
    }
   ],
   "source": [
    "# METHOD 1\n",
    "# Taking co-efficient as float value for each a, b and c resp.\n",
    "a = float(input(\"Enter coefficient 0f x^2\"))\n",
    "b = float(input(\"Enter coefficient of x\"))\n",
    "c = float(input(\"Enter constant\"))\n",
    "\n",
    "# if co-efficient of x^2 is 0 means a = 0, then remain linear equation\n",
    "if a == 0:\n",
    "    print(\"Entered Linear Equation is: \",b,\"x +\",c,\"= 0\")\n",
    "    x = -c/b    # value of x with transposing\n",
    "    print(\"Linear Equation which satisfies x =\", x)\n",
    "\n",
    "# if co-efficient of x^2 is not 0, then number of values of x differ(1 or 2 or imaginary) depending upon condition\n",
    "elif a != 0:\n",
    "    print(\"Entered Quadratic Equation is: \",a,\"x^2 +\",b,\"x +\",c,\"= 0\")\n",
    "    \n",
    "    D = (b*b)-(4*a*c)                     # Using SRIDHARACHARYA'S FORMULA calculating DISCRIMINANT\n",
    "    real = -b/(2*a)                       # for real part calculation\n",
    "    imag = (((4*a*c)-(b*b))**0.5)/(2*a)   # for imaginary part calculation\n",
    "\n",
    "    # if D is positive then two real solution exists but if D = 0 then two equal and real solution exist.\n",
    "    # while if D is negative then imaginary solutions satisfy the equation. \n",
    "    if D > 0:                             \n",
    "        x1 = (-b+D**0.5)/(2*a)\n",
    "        x2 = (-b-D**0.5)/(2*a)\n",
    "        print(\"Roots are real and unequal having x1 =\",x1,\"and x2 =\",x2)\n",
    "    elif D == 0:   # Two real and equal solutions satisfy  here\n",
    "        print(\"Roots are equal having x1 = x2 =\",real)\n",
    "    else:          # if D is negative, calculated real part and imaginary part for both solutions \n",
    "        print(\"Imaginary Roots satisfy your equation with real(x1) =\",real,\": imag(x1) =\",imag,\"and real(x2) =\",real,\": imag(x2) =\",-imag)"
   ]
  },
  {
   "cell_type": "code",
   "execution_count": 8,
   "metadata": {},
   "outputs": [
    {
     "data": {
      "text/plain": [
       "(('Entered Quadratic Equation is: ', 1, 'x^2 +', 2, 'x +', 3, '= 0'),\n",
       " 'Imaginary Roots satisfy your equation with real(x1) =',\n",
       " -1.0,\n",
       " ' imag(x1) =',\n",
       " 1.4142135623730951,\n",
       " ' real(x2) =',\n",
       " -1.0,\n",
       " ' imag(x2) =',\n",
       " -1.4142135623730951)"
      ]
     },
     "execution_count": 8,
     "metadata": {},
     "output_type": "execute_result"
    }
   ],
   "source": [
    "# METHOD 2\n",
    "# Defining function for taking coefficient of all terms in quadratic equation\n",
    "def quad_sol(a,b,c):\n",
    "    # if co-efficient of x^2 is 0 means a = 0, then remain linear equation\n",
    "    if a == 0:\n",
    "        req_eqn = \"Entered Linear Equation is: \",b,\"x +\",c,\"= 0\"\n",
    "        x = -c/b    # value of x with transposing\n",
    "        return req_eqn,\"Linear Equation which satisfies x =\",x\n",
    "    # if co-efficient of x^2 is not 0, then number of values of x differ depending upon condition\n",
    "    elif a != 0:\n",
    "        req_eqn = \"Entered Quadratic Equation is: \",a,\"x^2 +\",b,\"x +\",c,\"= 0\"\n",
    "    \n",
    "    D = (b*b)-(4*a*c)                     # Using SRIDHARACHARYA'S FORMULA, calculating DISCRIMINANT\n",
    "    real = -b/(2*a)                       # for real part calculation\n",
    "    imag = (((4*a*c)-(b*b))**0.5)/(2*a)   # for imaginary part calculation  \n",
    "\n",
    "    # if D is positive then two real solution exists but if D = 0 then two real and equal solution exist.\n",
    "    # while if D is negative then imaginary solutions satisfy the equation. \n",
    "    if D > 0:                             \n",
    "        x1 = (-b+D**0.5)/(2*a)\n",
    "        x2 = (-b-D**0.5)/(2*a)\n",
    "        return req_eqn,\"Roots are real and unequal having x1 =\",x1,\"and x2 =\",x2\n",
    "    elif D == 0:   # only one x satisfies here\n",
    "        return req_eqn,\"Roots are equal having x1 = x2 =\",real\n",
    "    else:          # if D is negative, calculated real part and imaginary part for both solution \n",
    "        return req_eqn,\"Imaginary Roots satisfy your equation with real(x1) =\",real,\" imag(x1) =\",imag,\" real(x2) =\",real,\" imag(x2) =\",-imag\n",
    "\n",
    "quad_sol(1,2,3)       \n"
   ]
  }
 ],
 "metadata": {
  "kernelspec": {
   "display_name": "Python 3",
   "language": "python",
   "name": "python3"
  },
  "language_info": {
   "codemirror_mode": {
    "name": "ipython",
    "version": 3
   },
   "file_extension": ".py",
   "mimetype": "text/x-python",
   "name": "python",
   "nbconvert_exporter": "python",
   "pygments_lexer": "ipython3",
   "version": "3.11.4"
  }
 },
 "nbformat": 4,
 "nbformat_minor": 2
}
