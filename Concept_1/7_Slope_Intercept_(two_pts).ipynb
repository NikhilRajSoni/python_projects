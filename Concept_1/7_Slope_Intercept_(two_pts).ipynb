{
 "cells": [
  {
   "cell_type": "markdown",
   "metadata": {},
   "source": [
    "7. Given two points (x1, y1) and (x2, y2), find the slope and intercept of the line joining these two points (the line may be perfectly horizontal or vertical)."
   ]
  },
  {
   "cell_type": "code",
   "execution_count": 1,
   "metadata": {},
   "outputs": [
    {
     "name": "stdout",
     "output_type": "stream",
     "text": [
      "Your first point is: (2.0, 1.0)\n",
      "Your second point is: (3.0, 1.0)\n",
      "slope of line is: 0.0\n",
      "y-intercept of line is: 1.0\n"
     ]
    }
   ],
   "source": [
    "# METHOD 1\n",
    "# Taking two points as float value for each\n",
    "x1 = float(input(\"Enter the X coordinate of your first poit: \"))\n",
    "y1 = float(input(\"Enter the Y coordinate of your first point: \"))\n",
    "print(\"Your first point is:\",(x1,y1))\n",
    "\n",
    "x2 = float(input(\"Enter the X coordinate of your second point: \"))\n",
    "y2 = float(input(\"Enter the Y coordinate of your second point: \"))\n",
    "print(\"Your second point is:\",(x2,y2))\n",
    "\n",
    "a = (y2-y1)   # projection of line on y-axis\n",
    "b = (x2-x1)   # projection of line on x-axis\n",
    "\n",
    "if b != 0:  # if b is not zero then only slope can be found intercept can be found\n",
    "    slope = a/b          \n",
    "    y_intercept = y2 - (slope*x2)        # using formula from the equation of straight line.\n",
    "\n",
    "    print(\"slope of line is:\",slope)\n",
    "    print(\"y-intercept of line is:\",y_intercept)\n",
    "else:                     # if b is zero then slope will be at right angle (vertical line) and intersept will be not defined.\n",
    "    print(\"Slope is undefine(Vertical line) and y-intercept is also not defined.\")"
   ]
  },
  {
   "cell_type": "code",
   "execution_count": 2,
   "metadata": {},
   "outputs": [
    {
     "name": "stdout",
     "output_type": "stream",
     "text": [
      "Your first point is: (1, 1)\n",
      "Your second point is: (1, 5)\n"
     ]
    },
    {
     "data": {
      "text/plain": [
       "(False,\n",
       " 'Slope is undefine(Vertical line) and y-intercept is also not defined.')"
      ]
     },
     "execution_count": 2,
     "metadata": {},
     "output_type": "execute_result"
    }
   ],
   "source": [
    "# METHOD 2\n",
    "# Defining function to take four values in order to get two points\n",
    "def slope_int(x1,y1,x2,y2):\n",
    "    print(\"Your first point is:\",(x1,y1))\n",
    "    print(\"Your second point is:\",(x2,y2))\n",
    "\n",
    "    a = (y2-y1)   # projection of line on y-axis\n",
    "    b = (x2-x1)   # projection of line on x-axis\n",
    "\n",
    "    if b != 0:  # if b is not zero then only slope can be found intercept can be found\n",
    "        slope = a/b          \n",
    "        y_intercept = y2 - (slope*x2)        # using formula from the equation of straight line.\n",
    "\n",
    "        return True,\"slope of line is:\",slope,\"intercept is:\",y_intercept\n",
    "    else:            # if b is zero then slope will be at right angle (vertical line) and intersept will be not defined.\n",
    "        return False,\"Slope is undefine(Vertical line) and y-intercept is also not defined.\"\n",
    "    \n",
    "\n",
    "slope_int(1,1,1,5)\n",
    "    \n",
    "    "
   ]
  },
  {
   "cell_type": "code",
   "execution_count": null,
   "metadata": {},
   "outputs": [],
   "source": []
  }
 ],
 "metadata": {
  "kernelspec": {
   "display_name": "Python 3",
   "language": "python",
   "name": "python3"
  },
  "language_info": {
   "codemirror_mode": {
    "name": "ipython",
    "version": 3
   },
   "file_extension": ".py",
   "mimetype": "text/x-python",
   "name": "python",
   "nbconvert_exporter": "python",
   "pygments_lexer": "ipython3",
   "version": "3.11.4"
  }
 },
 "nbformat": 4,
 "nbformat_minor": 2
}
