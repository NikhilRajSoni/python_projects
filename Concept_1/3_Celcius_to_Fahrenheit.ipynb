{
 "cells": [
  {
   "cell_type": "markdown",
   "metadata": {},
   "source": [
    "3. Given a temperature in Celsius, convert it to Fahrenheit using the formula F = (C * 1.8) + 32. If the temperature is above 90°F, print “It’s hot outside!” otherwise, print “The temperature is pleasant”."
   ]
  },
  {
   "cell_type": "code",
   "execution_count": 6,
   "metadata": {},
   "outputs": [
    {
     "name": "stdout",
     "output_type": "stream",
     "text": [
      "Temp taken in Celsius: -3.0\n",
      "Temp in Fahrenheit is: 26.6\n",
      "The temperature is pleasant\n"
     ]
    }
   ],
   "source": [
    "# METHOD 1\n",
    "# Taking temperature in Celsius as Float value\n",
    "\n",
    "Cels_temp = float(input(\"Enter temp in Celsius: \"))\n",
    "print(\"Temp taken in Celsius:\",Cels_temp)\n",
    "# Formula used for conversion of Celsius Temp. to Fahrenheit Temp, F = (C*1.8) + 32\n",
    "Frnht_temp = (Cels_temp * 1.8) + 32\n",
    "print(\"Temp in Fahrenheit is:\",Frnht_temp)\n",
    "#Comparing if Fahrenheit Temp is greater than 90 (hot) or lesser (pleasant)\n",
    "if Frnht_temp > 90:\n",
    "    print(\"It's hot outside!\")\n",
    "else:\n",
    "    print(\"The temperature is pleasant\")\n"
   ]
  },
  {
   "cell_type": "code",
   "execution_count": 3,
   "metadata": {},
   "outputs": [
    {
     "data": {
      "text/plain": [
       "(26.6, 'The temperature is pleasant')"
      ]
     },
     "execution_count": 3,
     "metadata": {},
     "output_type": "execute_result"
    }
   ],
   "source": [
    "# METHOD 1\n",
    "# Defining function to take temperature in celcius as any number\n",
    "def func_temp(Cels_temp):\n",
    "    # Formula used for conversion of Celsius Temp. to Fahrenheit Temp, F = (C*1.8) + 32\n",
    "    Frnht_temp = (Cels_temp * 1.8) + 32\n",
    "    if Frnht_temp > 90:  # Comparing Fahrenheit temp to mention hot or pleasant.\n",
    "        return Frnht_temp,\"It's hot outside!\"\n",
    "    else:\n",
    "        return  Frnht_temp,\"The temperature is pleasant\"\n",
    "    \n",
    "func_temp(-3)"
   ]
  }
 ],
 "metadata": {
  "kernelspec": {
   "display_name": "Python 3",
   "language": "python",
   "name": "python3"
  },
  "language_info": {
   "codemirror_mode": {
    "name": "ipython",
    "version": 3
   },
   "file_extension": ".py",
   "mimetype": "text/x-python",
   "name": "python",
   "nbconvert_exporter": "python",
   "pygments_lexer": "ipython3",
   "version": "3.11.4"
  }
 },
 "nbformat": 4,
 "nbformat_minor": 2
}
