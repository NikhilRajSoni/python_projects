{
 "cells": [
  {
   "cell_type": "markdown",
   "metadata": {},
   "source": [
    "10. Given three integers, find the smallest one."
   ]
  },
  {
   "cell_type": "code",
   "execution_count": 8,
   "metadata": {},
   "outputs": [
    {
     "name": "stdout",
     "output_type": "stream",
     "text": [
      "0 and 0 are equal and smaller than 5\n"
     ]
    }
   ],
   "source": [
    "# METHOD 1\n",
    "# Taking three integers as input to find smaller one.\n",
    "a = int(input(\"Enter any first integer: \"))\n",
    "b = int(input(\"Enter any second integer: \"))\n",
    "c = int(input(\"Enter any third integer: \"))\n",
    "\n",
    "if a == b and a == c:   # Case1: if all three integers are equal\n",
    "    print(a,\",\",b,\",\",\"and\",c,\"all are equal.\")\n",
    "elif a == b and a != c: # Case2: if 'a' and 'b' are equal but 'c' is different\n",
    "    if a < c:           # Case2(a): 'a' and 'b' are smaller than 'c' then \n",
    "                        # (need any one of 'a' and 'b' to compare with 'c') both will be smaller than 'c'.\n",
    "        print(a,\"and\",b,\"are equal and smaller than\",c)    \n",
    "    else:               # Case2(b): if 'c' is smaller than 'a' and 'b'\n",
    "        print(c,\"is smallest among\",a,\",\",b,\"and\",c)\n",
    "elif a == c and a != b: # Case3: if 'a' and 'c' are equal but 'b' is different\n",
    "    if a < b:           # Case3(a): if 'a' is smaller than 'b'\n",
    "        print(a,\"and\",c,\"are equal and smaller than\",b)      \n",
    "    else:               # Case3(b): if 'b' is smaller than 'a' and 'b'\n",
    "        print(b,\"is smallest among\",a,\",\",b,\"and\",c) \n",
    "elif b == c and b != a: # Case4: if 'a' is different from 'b', where 'b' and 'c' are equal\n",
    "     if b < a:          # Case4(a): if 'a' is larger then 'b' and 'c' are smaller\n",
    "         print(b,\"and\",c,\"are equal and smaller than\",a)\n",
    "     else:              # Case4(b): if 'a' is smaller than 'b' and 'c'\n",
    "         print(a,\"is smallest among\",a,\",\",b,\"and\",c)                   \n",
    "else:                   # Case5: if all three are distinct means a != b and a != c:\n",
    "    if a < b and a < c: # Case5(a): if 'a' is smaller than 'b' and 'c'\n",
    "        print(a,\"is smallest among\",a,\",\",b,\"and\",c)  \n",
    "    elif b < c:         # Case5(b): if 'b' is smaller than 'c' (need not to check with 'a' as it is already checked)\n",
    "        print(b,\"is smallest among\",a,\",\",b,\"and\",c)    \n",
    "    else:               # Case5(c): if 'c' is smallest \n",
    "        print(c,\"is smallest among\",a,\",\",b,\"and\",c)   \n"
   ]
  },
  {
   "cell_type": "code",
   "execution_count": 6,
   "metadata": {},
   "outputs": [
    {
     "data": {
      "text/plain": [
       "(-11, 'is smallest among', -11, 2, 'and', 3)"
      ]
     },
     "execution_count": 6,
     "metadata": {},
     "output_type": "execute_result"
    }
   ],
   "source": [
    "# METHOD 2\n",
    "# defining function to take input for three integers to compare\n",
    "def small_int(a,b,c):\n",
    "    if a == b and a == c:    # Case1: if all three integers are equal\n",
    "        return a,b,\"and\",c,\"all are equal.\"  \n",
    "    elif a == b and a != c:  # Case2: if 'a' and 'b' are equal but 'c' is different\n",
    "        if a < c:            # Case2(a): 'a' and 'b' are smaller than 'c' then \n",
    "                             # need any one of 'a' and 'b' to compare with 'c') both will be smaller than 'c'.\n",
    "            return a,\"and\",b,\"are equal and smaller than\",c   \n",
    "        else:                # Case2(b): if 'c' is smaller than 'a' and 'b'\n",
    "            return c,\"is smallest among\",a,b,\"and\",c\n",
    "    elif a == c and a != b:  # Case3: if 'a' and 'c' are equal but 'b' is different\n",
    "        if a < b:            # Case3(a): if 'a' is smaller than 'b\n",
    "            return a,\"and\",c,\"are equal and smaller than\",b     \n",
    "        else:                # Case3(b): if 'b' is smaller than 'a' and 'b'\n",
    "            return b,\"is smallest among\",a,b,\"and\",c \n",
    "    elif b == c and b != a:  # Case4: if 'a' is different from 'b', where 'b' and 'c' are equal\n",
    "        if b < a:            # Case4(a): if 'a' is larger then 'b' and 'c' are smaller\n",
    "            return b,\"and\",c,\"are equal and smaller than\",a\n",
    "        else:                # Case4(b): if 'a' is smaller than 'b' and 'c'\n",
    "             return a,\"is smallest among\",a,b,\"and\",c                   \n",
    "    else:                    # Case5: if all three are distinct means a != b and a != c:\n",
    "        if a < b and a < c:  # Case5(a): if 'a' is smaller than 'b' and 'c'\n",
    "            return a,\"is smallest among\",a,b,\"and\",c  \n",
    "        elif b < c:          # Case5(b): if 'b' is smaller than 'c' (need not to check with 'a' as it is already checked)\n",
    "            return b,\"is smallest among\",a,b,\"and\",c   \n",
    "        else:                # Case5(c): if 'c' is smallest\n",
    "            return c,\"is smallest among\",a,\",\",b,\"and\",c\n",
    "        \n",
    "\n",
    "\n",
    "small_int(-11,2,3)     \n",
    "#small_int(2,-1,1)\n",
    "#small_int(3,2,1)\n",
    "#small_int(1,1,4)\n",
    "#small_int(0,-5,-5)\n",
    "#small_int(-8,7,-8)\n",
    "#small_int(5,5,5)\n",
    "#small_int(-3,-3,23)  "
   ]
  }
 ],
 "metadata": {
  "kernelspec": {
   "display_name": "Python 3",
   "language": "python",
   "name": "python3"
  },
  "language_info": {
   "codemirror_mode": {
    "name": "ipython",
    "version": 3
   },
   "file_extension": ".py",
   "mimetype": "text/x-python",
   "name": "python",
   "nbconvert_exporter": "python",
   "pygments_lexer": "ipython3",
   "version": "3.11.4"
  }
 },
 "nbformat": 4,
 "nbformat_minor": 2
}
