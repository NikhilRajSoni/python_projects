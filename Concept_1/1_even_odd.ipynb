{
 "cells": [
  {
   "cell_type": "markdown",
   "metadata": {},
   "source": [
    "1. Given an integer, check if it is even or odd."
   ]
  },
  {
   "cell_type": "code",
   "execution_count": 5,
   "metadata": {},
   "outputs": [
    {
     "name": "stdout",
     "output_type": "stream",
     "text": [
      "101 is an odd number.\n"
     ]
    }
   ],
   "source": [
    "# METHOD 1\n",
    "# METHOD 1\n",
    "# taking any integer \n",
    "int_1 = int(input(\"Enter any integer:\"))\n",
    "# checking if entered integer is completely divisible by 2 or not.\n",
    "if int_1 % 2 == 0:    # if divisible then even integer\n",
    "    print(int_1,\"is an even number.\")\n",
    "else:                 # if not divisible then odd integer\n",
    "    print(int_1,\"is an odd number.\")"
   ]
  },
  {
   "cell_type": "code",
   "execution_count": 1,
   "metadata": {},
   "outputs": [],
   "source": [
    "# METHOD 2\n",
    "# defining function as func_evenodd to check even or odd integer.\n",
    "def func_evenodd(int_1):\n",
    "    # 'even integer' if integer is completely divisible by 2, otherwise 'odd integer'\n",
    "    if int_1 % 2 == 0:\n",
    "        return \"Even integer\"\n",
    "    else:\n",
    "        return \"Odd integer\""
   ]
  },
  {
   "cell_type": "code",
   "execution_count": 2,
   "metadata": {},
   "outputs": [
    {
     "data": {
      "text/plain": [
       "'Even integer'"
      ]
     },
     "execution_count": 2,
     "metadata": {},
     "output_type": "execute_result"
    }
   ],
   "source": [
    "func_evenodd(0)"
   ]
  },
  {
   "cell_type": "code",
   "execution_count": 3,
   "metadata": {},
   "outputs": [
    {
     "data": {
      "text/plain": [
       "'Odd integer'"
      ]
     },
     "execution_count": 3,
     "metadata": {},
     "output_type": "execute_result"
    }
   ],
   "source": [
    "func_evenodd(-5)"
   ]
  },
  {
   "cell_type": "code",
   "execution_count": 4,
   "metadata": {},
   "outputs": [
    {
     "data": {
      "text/plain": [
       "'Even integer'"
      ]
     },
     "execution_count": 4,
     "metadata": {},
     "output_type": "execute_result"
    }
   ],
   "source": [
    "func_evenodd(6)"
   ]
  }
 ],
 "metadata": {
  "kernelspec": {
   "display_name": "Python 3",
   "language": "python",
   "name": "python3"
  },
  "language_info": {
   "codemirror_mode": {
    "name": "ipython",
    "version": 3
   },
   "file_extension": ".py",
   "mimetype": "text/x-python",
   "name": "python",
   "nbconvert_exporter": "python",
   "pygments_lexer": "ipython3",
   "version": "3.11.4"
  }
 },
 "nbformat": 4,
 "nbformat_minor": 2
}
