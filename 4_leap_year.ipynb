{
 "cells": [
  {
   "cell_type": "markdown",
   "metadata": {},
   "source": [
    "4. Given a year, check if it is a leap year or not. A leap year is divisible by 4, except for years that are divisible by 100. However, years that are divisible by 400 are also leap years."
   ]
  },
  {
   "cell_type": "code",
   "execution_count": 1,
   "metadata": {},
   "outputs": [
    {
     "name": "stdout",
     "output_type": "stream",
     "text": [
      "300 is not a Leap Year.\n"
     ]
    }
   ],
   "source": [
    "# METHOD 1\n",
    "# Taking integer in input as year \n",
    "Year = int(input(\"Enter the year to check: \"))\n",
    "# if year divisible by 4 but not 100, then called leap year (except divisible by 400)\n",
    "if Year % 4 == 0 and Year % 100 != 0:\n",
    "    print(Year,\"is the Leap Year.\")\n",
    "# Checking if completely divisible by 400, then also called leap year otherwise not.\n",
    "elif Year % 400 == 0:\n",
    "    print(Year,\"is the Leap Year.\")\n",
    "else:\n",
    "    print(Year,\"is not a Leap Year.\")"
   ]
  },
  {
   "cell_type": "code",
   "execution_count": 4,
   "metadata": {},
   "outputs": [
    {
     "data": {
      "text/plain": [
       "(2200, 'is not a Leap Year.')"
      ]
     },
     "execution_count": 4,
     "metadata": {},
     "output_type": "execute_result"
    }
   ],
   "source": [
    "#METHOD 2\n",
    "# Defining function to take year as input\n",
    "def leap_check(Year):\n",
    "    # if year divisible by 4 but not 100, then called leap year (except divisible by 400)\n",
    "    if Year % 4 == 0 and Year % 100 != 0:\n",
    "        return Year,\"is the Leap Year.\"\n",
    "    # Checking if completely divisible by 400, then also called leap year otherwise not.\n",
    "    elif Year % 400 == 0:\n",
    "        return Year,\"is the Leap Year.\"\n",
    "    else:\n",
    "        return Year,\"is not a Leap Year.\"\n",
    "    \n",
    "leap_check(2200)"
   ]
  }
 ],
 "metadata": {
  "kernelspec": {
   "display_name": "Python 3",
   "language": "python",
   "name": "python3"
  },
  "language_info": {
   "codemirror_mode": {
    "name": "ipython",
    "version": 3
   },
   "file_extension": ".py",
   "mimetype": "text/x-python",
   "name": "python",
   "nbconvert_exporter": "python",
   "pygments_lexer": "ipython3",
   "version": "3.11.4"
  }
 },
 "nbformat": 4,
 "nbformat_minor": 2
}
