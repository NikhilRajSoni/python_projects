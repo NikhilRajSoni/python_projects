{
 "cells": [
  {
   "cell_type": "markdown",
   "metadata": {},
   "source": [
    "8. Given a positive integer, find all its divisors."
   ]
  },
  {
   "cell_type": "code",
   "execution_count": 1,
   "metadata": {},
   "outputs": [
    {
     "data": {
      "text/plain": [
       "('Divisors of', 1, 'is/are:', [1])"
      ]
     },
     "execution_count": 1,
     "metadata": {},
     "output_type": "execute_result"
    }
   ],
   "source": [
    "# Method 1: Divisors stored in list\n",
    "# Defining a function to take positive integer as input\n",
    "def func_num(pos_int):\n",
    "    div_list = []                        # creating empty list\n",
    "    for i in range(1,pos_int+1):\n",
    "        if pos_int % i == 0:             # checking if taken integer is divisible by iterating integers in range one by one\n",
    "            div_list.append(i)           # if completely divisible then appending in created list\n",
    "    return \"Divisors of\",pos_int,\"is/are:\",div_list                 \n",
    "\n",
    "func_num(1)     "
   ]
  },
  {
   "cell_type": "code",
   "execution_count": 2,
   "metadata": {},
   "outputs": [
    {
     "data": {
      "text/plain": [
       "('Divisors of', 19, 'is/are:', [1, 19])"
      ]
     },
     "execution_count": 2,
     "metadata": {},
     "output_type": "execute_result"
    }
   ],
   "source": [
    "func_num(19)"
   ]
  },
  {
   "cell_type": "code",
   "execution_count": 3,
   "metadata": {},
   "outputs": [
    {
     "data": {
      "text/plain": [
       "('Divisors of', 12, 'is/are:', [1, 2, 3, 4, 6, 12])"
      ]
     },
     "execution_count": 3,
     "metadata": {},
     "output_type": "execute_result"
    }
   ],
   "source": [
    "func_num(12)"
   ]
  },
  {
   "cell_type": "code",
   "execution_count": 4,
   "metadata": {},
   "outputs": [
    {
     "name": "stdout",
     "output_type": "stream",
     "text": [
      "Divisors of 12 is/are: \n",
      "1, 2, 3, 4, 6, 12, "
     ]
    }
   ],
   "source": [
    "# Method 2: Direct printing divisors\n",
    "# Defining a function to take positive integer as input\n",
    "def func_num(pos_int):\n",
    "    print(\"Divisors of\",pos_int,\"is/are: \")\n",
    "    for i in range(1,pos_int + 1):             \n",
    "        if pos_int % i == 0:                   # checking if taken integer is divisible by iterating integers in range one by one\n",
    "            print(i,end=\", \")                  # printing each divisor one by one separated by comma(,) and space.\n",
    "    \n",
    "func_num(12)     "
   ]
  },
  {
   "cell_type": "code",
   "execution_count": 5,
   "metadata": {},
   "outputs": [
    {
     "name": "stdout",
     "output_type": "stream",
     "text": [
      "Divisors of 1 is/are: \n",
      "1, "
     ]
    }
   ],
   "source": [
    "func_num(1)"
   ]
  },
  {
   "cell_type": "code",
   "execution_count": 6,
   "metadata": {},
   "outputs": [
    {
     "name": "stdout",
     "output_type": "stream",
     "text": [
      "Divisors of 19 is/are: \n",
      "1, 19, "
     ]
    }
   ],
   "source": [
    "func_num(19)"
   ]
  }
 ],
 "metadata": {
  "kernelspec": {
   "display_name": "Python 3",
   "language": "python",
   "name": "python3"
  },
  "language_info": {
   "codemirror_mode": {
    "name": "ipython",
    "version": 3
   },
   "file_extension": ".py",
   "mimetype": "text/x-python",
   "name": "python",
   "nbconvert_exporter": "python",
   "pygments_lexer": "ipython3",
   "version": "3.11.4"
  }
 },
 "nbformat": 4,
 "nbformat_minor": 2
}
