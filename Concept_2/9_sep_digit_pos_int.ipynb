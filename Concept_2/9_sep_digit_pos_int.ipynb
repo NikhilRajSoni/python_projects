{
 "cells": [
  {
   "cell_type": "markdown",
   "metadata": {},
   "source": [
    "9. Given a positive integer, print each of its digits separately without converting the number into a string."
   ]
  },
  {
   "cell_type": "code",
   "execution_count": 2,
   "metadata": {},
   "outputs": [
    {
     "data": {
      "text/plain": [
       "[2, 5, 3, 6, 7]"
      ]
     },
     "execution_count": 2,
     "metadata": {},
     "output_type": "execute_result"
    }
   ],
   "source": [
    "# METHOD 1: FOR LOOP\n",
    "# defining any function to take positive integer as input\n",
    "def func_int(pos_int):\n",
    "    # Imoprt math module to work with mathematical operation.\n",
    "    import math                                   \n",
    "    a = int(math.log10(pos_int))+1                # 'a' gives number of digits pos_int have\n",
    "    lst_digit = []                                # creating empty list to store distinct digit\n",
    "    for x in range(a):\n",
    "        b = pos_int%10\n",
    "        pos_int = pos_int//10                     # updating number for further steps with floor division with 10.\n",
    "        lst_digit.append(b)                       # Append the last digit of the number in the list_digit.\n",
    "    lst_digit.reverse()\n",
    "    return lst_digit\n",
    "     \n",
    "func_int(25367)"
   ]
  },
  {
   "cell_type": "code",
   "execution_count": 4,
   "metadata": {},
   "outputs": [
    {
     "data": {
      "text/plain": [
       "[5, 4, 6, 7]"
      ]
     },
     "execution_count": 4,
     "metadata": {},
     "output_type": "execute_result"
    }
   ],
   "source": [
    "# METHOD 2: WHILE LOOP\n",
    "# defining any function to take positive integer as input\n",
    "def func_int(pos_int):\n",
    "    lst_digit=[]                    # creating empty list for storing each digit of that integer\n",
    "    while pos_int > 0:              # iterating through 'while loop' till the modified value remains greater than '0' \n",
    "        a = pos_int%10              # starting from last digit as getting remainder when divided by '10'\n",
    "        pos_int = int(pos_int/10)   # modifying taken integer by removing last digit, as it is already taken through remainder\n",
    "        lst_digit.append(a)         # appending remainder in created list\n",
    "\n",
    "    lst_digit.reverse()         # since remainder value comes from last digit and appended first, so need to reverse for getting in order.\n",
    "    return lst_digit           \n",
    "    \n",
    "func_int(5467)"
   ]
  }
 ],
 "metadata": {
  "kernelspec": {
   "display_name": "Python 3",
   "language": "python",
   "name": "python3"
  },
  "language_info": {
   "codemirror_mode": {
    "name": "ipython",
    "version": 3
   },
   "file_extension": ".py",
   "mimetype": "text/x-python",
   "name": "python",
   "nbconvert_exporter": "python",
   "pygments_lexer": "ipython3",
   "version": "3.11.4"
  }
 },
 "nbformat": 4,
 "nbformat_minor": 2
}
