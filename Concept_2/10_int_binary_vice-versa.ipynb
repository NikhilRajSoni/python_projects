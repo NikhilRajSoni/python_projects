{
 "cells": [
  {
   "cell_type": "markdown",
   "metadata": {},
   "source": [
    "10. Given a positive integer, convert it into binary, and vice-versa."
   ]
  },
  {
   "cell_type": "code",
   "execution_count": 4,
   "metadata": {},
   "outputs": [
    {
     "name": "stdout",
     "output_type": "stream",
     "text": [
      "Binary value of 12 is: \n"
     ]
    },
    {
     "data": {
      "text/plain": [
       "('Binary digits of', 0, 'is:', 1100)"
      ]
     },
     "execution_count": 4,
     "metadata": {},
     "output_type": "execute_result"
    }
   ],
   "source": [
    "# Decimal to Binary (METHOD: FOR LOOP)\n",
    "# defining a function to get positive integer as input\n",
    "\n",
    "def func_binary(pos_int):\n",
    "    print(\"Binary value of\",pos_int,\"is: \")\n",
    "    # importing maths module to do mathematical operation.\n",
    "    import math   \n",
    "    binary = 0                                   # defining variable to store binary calculation\n",
    "    a = int(math.log2(pos_int))+1                # to count steps need to be divided by 2 to reach till remainder 0 or 1.\n",
    "    for i in range(a):\n",
    "        b = pos_int%2                            # to get remainder after dividing by 2.\n",
    "        pos_int = pos_int//2                     # modifying the taken integer, after dividing by '2' for further calculation.\n",
    "        binary += b*(10**i)                      # updating defined variable multiplying with remainder and as when 1 comes as remainder, \n",
    "                                                     # respective (step-1) will used as power of 10\n",
    "    return \"Binary digits of\",pos_int,\"is:\",binary\n",
    "    \n",
    "func_binary(12)"
   ]
  },
  {
   "cell_type": "code",
   "execution_count": 12,
   "metadata": {},
   "outputs": [
    {
     "name": "stdout",
     "output_type": "stream",
     "text": [
      "Binary value of 19 is: \n"
     ]
    },
    {
     "data": {
      "text/plain": [
       "(True, 10011)"
      ]
     },
     "execution_count": 12,
     "metadata": {},
     "output_type": "execute_result"
    }
   ],
   "source": [
    "func_binary(19)"
   ]
  },
  {
   "cell_type": "code",
   "execution_count": 5,
   "metadata": {},
   "outputs": [
    {
     "name": "stdout",
     "output_type": "stream",
     "text": [
      "Binary value of 125 is: \n"
     ]
    },
    {
     "data": {
      "text/plain": [
       "('Binary digits of', 0, 'is:', 1111101)"
      ]
     },
     "execution_count": 5,
     "metadata": {},
     "output_type": "execute_result"
    }
   ],
   "source": [
    "func_binary(125)"
   ]
  },
  {
   "cell_type": "code",
   "execution_count": 2,
   "metadata": {},
   "outputs": [
    {
     "name": "stdout",
     "output_type": "stream",
     "text": [
      "Binary value of 18 is: \n"
     ]
    },
    {
     "data": {
      "text/plain": [
       "[1, 0, 0, 1, 0]"
      ]
     },
     "execution_count": 2,
     "metadata": {},
     "output_type": "execute_result"
    }
   ],
   "source": [
    "# Decimal to Binary (METHOD: WHILE LOOP)\n",
    "# defining a function to get positive integer as input\n",
    "\n",
    "def func_binary(pos_int):\n",
    "    print(\"Binary value of\",pos_int,\"is: \")\n",
    "    binary = []\n",
    "    while pos_int > 0:                    # iterating through while loop for processing till the modified integer remains greater than '0'\n",
    "        a = pos_int%2                     # getting remainder dividing by '2'\n",
    "        pos_int = int(pos_int/2)          # modifying the taken integer, after dividing by '2'.\n",
    "        binary.append(a)\n",
    "    binary.reverse()                      # to get right order of binary number to taken positive integer.\n",
    "    return binary\n",
    "    \n",
    "func_binary(18)\n"
   ]
  },
  {
   "cell_type": "code",
   "execution_count": 9,
   "metadata": {},
   "outputs": [
    {
     "data": {
      "text/plain": [
       "('Decimal value of', '1010', 'is:', 10)"
      ]
     },
     "execution_count": 9,
     "metadata": {},
     "output_type": "execute_result"
    }
   ],
   "source": [
    "# Binary to decimal:\n",
    "# Define a function to convert binary to decimal..\n",
    "def func_decimal(pos_bin_num):\n",
    "    pos_bin_num = str(pos_bin_num)\n",
    "    dig_num = 0                      # defining variable to count number of digits\n",
    "    for x in pos_bin_num:            #Counting the no. of digits in binary number..\n",
    "        dig_num += 1\n",
    "\n",
    "    decimal_num = 0                # defining variable to store sum for getting decimal value\n",
    "    power = dig_num-1              # since power starts from '0', so it will end till (length-1) that's why power is taken '1' less than len.\n",
    "    a = 0                          # starting power '0'\n",
    "    \n",
    "    for i in pos_bin_num:          # Itrate digits using for loops\n",
    "        decimal_num += int(i)*(2**(power-a))     # formula used to calculate decimal value and sum-up\n",
    "        a += 1                     # power modified by adding '1' each time\n",
    "        \n",
    "    return \"Decimal value of\",pos_bin_num,\"is:\",decimal_num\n",
    "\n",
    "func_decimal(1010)"
   ]
  },
  {
   "cell_type": "code",
   "execution_count": 10,
   "metadata": {},
   "outputs": [
    {
     "data": {
      "text/plain": [
       "('Decimal value of', '1111', 'is:', 15)"
      ]
     },
     "execution_count": 10,
     "metadata": {},
     "output_type": "execute_result"
    }
   ],
   "source": [
    "func_decimal(1111)"
   ]
  }
 ],
 "metadata": {
  "kernelspec": {
   "display_name": "Python 3",
   "language": "python",
   "name": "python3"
  },
  "language_info": {
   "codemirror_mode": {
    "name": "ipython",
    "version": 3
   },
   "file_extension": ".py",
   "mimetype": "text/x-python",
   "name": "python",
   "nbconvert_exporter": "python",
   "pygments_lexer": "ipython3",
   "version": "3.11.4"
  }
 },
 "nbformat": 4,
 "nbformat_minor": 2
}
