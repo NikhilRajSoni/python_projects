{
 "cells": [
  {
   "cell_type": "markdown",
   "metadata": {},
   "source": [
    "2. Given a positive integer, find out the sum of all integers from 1 up to this number."
   ]
  },
  {
   "cell_type": "code",
   "execution_count": 2,
   "metadata": {},
   "outputs": [
    {
     "name": "stdout",
     "output_type": "stream",
     "text": [
      "Total sum till 100 = 5050\n"
     ]
    }
   ],
   "source": [
    "# taking any positive integer as x \n",
    "x = int(input(\"Enter any positive integer: \"))\n",
    "sum_till_x = 0          # defining variable to store sum value\n",
    "for i in range(1,x+1):   \n",
    "    sum_till_x += i     # adding each integer to defined variable after iterating loop.\n",
    "print(\"Total sum till\",x,\"=\",sum_till_x)    "
   ]
  },
  {
   "cell_type": "code",
   "execution_count": 5,
   "metadata": {},
   "outputs": [
    {
     "data": {
      "text/plain": [
       "('Sum of all integers from 1 upto', 10, 'is:', 55)"
      ]
     },
     "execution_count": 5,
     "metadata": {},
     "output_type": "execute_result"
    }
   ],
   "source": [
    "# Defining a function to take any positive integer\n",
    "def my_int(pos_int):\n",
    "    sum_till_int = 0                 #defining variable to store sum value\n",
    "    for i in range(1,pos_int+1):\n",
    "        sum_till_int += i            # adding each integer to defined variable after iterating loop.\n",
    "    return \"Sum of all integers from 1 upto\",pos_int,\"is:\",sum_till_int\n",
    "\n",
    "my_int(10)   "
   ]
  },
  {
   "cell_type": "code",
   "execution_count": 6,
   "metadata": {},
   "outputs": [
    {
     "data": {
      "text/plain": [
       "('Sum of all integers from 1 upto', 20, 'is:', 210)"
      ]
     },
     "execution_count": 6,
     "metadata": {},
     "output_type": "execute_result"
    }
   ],
   "source": [
    "my_int(20)"
   ]
  }
 ],
 "metadata": {
  "kernelspec": {
   "display_name": "Python 3",
   "language": "python",
   "name": "python3"
  },
  "language_info": {
   "codemirror_mode": {
    "name": "ipython",
    "version": 3
   },
   "file_extension": ".py",
   "mimetype": "text/x-python",
   "name": "python",
   "nbconvert_exporter": "python",
   "pygments_lexer": "ipython3",
   "version": "3.11.4"
  }
 },
 "nbformat": 4,
 "nbformat_minor": 2
}
