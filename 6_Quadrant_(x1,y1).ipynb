{
 "cells": [
  {
   "cell_type": "markdown",
   "metadata": {},
   "source": [
    "6. Given a point (x1, y1), find the quadrant in which this point lies."
   ]
  },
  {
   "cell_type": "code",
   "execution_count": 16,
   "metadata": {},
   "outputs": [
    {
     "name": "stdout",
     "output_type": "stream",
     "text": [
      "x co-ordinate: 0.0 : y co-ordinate: 0.0\n",
      "origin\n"
     ]
    }
   ],
   "source": [
    "#METHOD 1\n",
    "# Taking Co-ordinates (need float to take)\n",
    "x1 = float(input(\"Enter x-coordinate\"))\n",
    "y1 = float(input(\"Enter y-coordinate\"))\n",
    "print(\"x co-ordinate:\",x1,\":\",\"y co-ordinate:\",y1)\n",
    "\n",
    "# Comparing the coordinate values \n",
    "if x1 != 0 and y1 != 0:   # if both non zero value\n",
    "    if x1 > 0 and y1 > 0: # if both positive\n",
    "        print(\"fisrt quadrant\")  \n",
    "    elif x1 > 0 and y1 < 0: # if only y1 is negative\n",
    "        print(\"fourth quadrant\")\n",
    "    elif x1 < 0 and y1 > 0: # if only x1 is negative\n",
    "        print(\"second quadrant\")\n",
    "    else:                   # if both negative\n",
    "        print(\"third quadrant\")\n",
    "elif x1 == 0 and y1 != 0:   # if x1 is zero and y1 non-zero\n",
    "    if y1 > 0:              # if y1 is positive\n",
    "        print(\"positive y-axis\")  \n",
    "    else:                   # if y1 is negative     \n",
    "        print(\"negative y-axis\")\n",
    "elif y1 == 0 and x1 != 0:   # if y1 is zero while x1 is non-zero\n",
    "    if x1 > 0:              # if x1 is positive\n",
    "        print(\"positive x-axis\")\n",
    "    else:                   # if x1 is negative   \n",
    "        print(\"negative x-axis\") \n",
    "else:                       # if both coordinates are zero then origin\n",
    "    print(\"origin\")"
   ]
  },
  {
   "cell_type": "code",
   "execution_count": 5,
   "metadata": {},
   "outputs": [
    {
     "name": "stdout",
     "output_type": "stream",
     "text": [
      "ordinate : 8 abscissa : -6\n"
     ]
    },
    {
     "data": {
      "text/plain": [
       "'fourth quadrant'"
      ]
     },
     "execution_count": 5,
     "metadata": {},
     "output_type": "execute_result"
    }
   ],
   "source": [
    "# METHOD 2\n",
    "# Defining function to take ordinate and abscissa\n",
    "def quadrant_check(x1,y1):\n",
    "    print(\"ordinate :\",x1,\"abscissa :\",y1)\n",
    "    # Comparing the coordinate values \n",
    "    if x1 != 0 and y1 != 0:   # if both non zero value\n",
    "        if x1 > 0 and y1 > 0: # if both positive\n",
    "            return \"fisrt quadrant\"  \n",
    "        elif x1 > 0 and y1 < 0: # if only y1 is negative\n",
    "            return \"fourth quadrant\"\n",
    "        elif x1 < 0 and y1 > 0: # if only x1 is negative\n",
    "            return \"second quadrant\"\n",
    "        else:                   # if both negative\n",
    "            return \"third quadrant\"\n",
    "    elif x1 == 0 and y1 != 0:   # if x1 is zero and y1 non-zero\n",
    "        if y1 > 0:              # if y1 is positive\n",
    "            return \"positive y-axis\"  \n",
    "        else:                   # if y1 is negative     \n",
    "            return \"negative y-axis\"\n",
    "    elif y1 == 0 and x1 != 0:   # if y1 is zero while x1 is non-zero\n",
    "        if x1 > 0:              # if x1 is positive\n",
    "            return \"positive x-axis\"\n",
    "        else:                   # if x1 is negative   \n",
    "            return \"negative x-axis\"\n",
    "    else:                       # if both coordinates are zero then origin\n",
    "        return \"origin\"\n",
    "\n",
    "\n",
    "quadrant_check(8,-6)           "
   ]
  }
 ],
 "metadata": {
  "kernelspec": {
   "display_name": "Python 3",
   "language": "python",
   "name": "python3"
  },
  "language_info": {
   "codemirror_mode": {
    "name": "ipython",
    "version": 3
   },
   "file_extension": ".py",
   "mimetype": "text/x-python",
   "name": "python",
   "nbconvert_exporter": "python",
   "pygments_lexer": "ipython3",
   "version": "3.11.4"
  }
 },
 "nbformat": 4,
 "nbformat_minor": 2
}
