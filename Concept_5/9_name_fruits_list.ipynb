{
 "cells": [
  {
   "cell_type": "markdown",
   "metadata": {},
   "source": [
    "9. Create a dictionary whose keys are the names of your family members and friends, and the values are the list of fruits they like to eat. Now if the user gives a fruit as input, the code should print the list of names who like this fruit. Write another code to print the list of people who do not like this fruit. Using this dictionary as input, write a code to make a consolidated list of all the fruit names present in the values of various keys. This list should not have any duplicate entries. Do not use the set() function."
   ]
  },
  {
   "cell_type": "code",
   "execution_count": 1,
   "metadata": {},
   "outputs": [
    {
     "name": "stdout",
     "output_type": "stream",
     "text": [
      "Pineapple is liked by: ['Nikhil', 'Kutkut', 'Harsh']\n",
      "Pineapple is not liked by: ['Barkha']\n",
      "['Mango', 'Grapes', 'Guava', 'Banana', 'Pineapple', 'Papaya', 'Blackberry', 'Pomegranate']\n"
     ]
    }
   ],
   "source": [
    "dict_name_fruit = {\"Barkha\":[\"Mango\",\"Grapes\",\"Guava\"], \"Nikhil\":[\"Banana\",\"Grapes\",\"Pineapple\",\"Mango\"], \"Kutkut\":[\"Pineapple\",\"Papaya\",\"Blackberry\",\"Banana\",\"Pomegranate\"], \"Harsh\":[\"Guava\",\"Pineapple\",\"Mango\",\"Papaya\"]}\n",
    "fruit_name = input(\"Enter any fruit name: \")  # input from user as fruit name.\n",
    "list_like = []                 # created empty list for favourable name.\n",
    "list_dislike = []              # created empty list for non favourable name.\n",
    "for name,fruits in dict_name_fruit.items():\n",
    "    if fruit_name in fruits:\n",
    "        list_like.append(name)\n",
    "    else:                      # if entered fruit is not in the list of person.\n",
    "        list_dislike.append(name)\n",
    "print(fruit_name,\"is liked by:\",list_like)\n",
    "print(fruit_name,\"is not liked by:\",list_dislike)\n",
    "\n",
    "cons_list = []       # creating empty list to append all fruits from dictionary.\n",
    "for value in dict_name_fruit.values():\n",
    "    for i in value:\n",
    "        if i not in cons_list:  # checking fruit if not in the list.\n",
    "            cons_list.append(i)\n",
    "print(cons_list)\n"
   ]
  }
 ],
 "metadata": {
  "kernelspec": {
   "display_name": "Python 3",
   "language": "python",
   "name": "python3"
  },
  "language_info": {
   "codemirror_mode": {
    "name": "ipython",
    "version": 3
   },
   "file_extension": ".py",
   "mimetype": "text/x-python",
   "name": "python",
   "nbconvert_exporter": "python",
   "pygments_lexer": "ipython3",
   "version": "3.11.4"
  }
 },
 "nbformat": 4,
 "nbformat_minor": 2
}
