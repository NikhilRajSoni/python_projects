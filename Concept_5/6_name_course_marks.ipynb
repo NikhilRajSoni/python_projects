{
 "cells": [
  {
   "cell_type": "markdown",
   "metadata": {},
   "source": [
    "6. Create a dictionary to store the total marks of 5 students in the class in 3 subjects (Course1, Course2, Course3). The keys must be the student names, and the values must be the list of marks. Create another list which has the course names in the same order as the marks are stored in the dictionary values. Now write a nested for loop to print the marks for each student exam wise.\n",
    "Student1\n",
    "Course1 marks : 82\n",
    "Course2 marks : 84\n",
    "Course3 marks : 72\n",
    "Student2\n",
    "Course1 marks : 87\n",
    "Course2 marks : 83\n",
    "Course3 marks : 78"
   ]
  },
  {
   "cell_type": "code",
   "execution_count": 3,
   "metadata": {},
   "outputs": [
    {
     "name": "stdout",
     "output_type": "stream",
     "text": [
      "{'Nikhil': [82, 84, 72], 'Niku': [87, 83, 78], 'Jitu': [98, 81, 90], 'Himanshu': [91, 73, 62], 'Shishukant': [59, 99, 86]} \n",
      "\n",
      "Nikhil\n",
      "Linear Algebra : 82\n",
      "Python : 84\n",
      "English : 72\n",
      "\n",
      "\n",
      "Niku\n",
      "Linear Algebra : 87\n",
      "Python : 83\n",
      "English : 78\n",
      "\n",
      "\n",
      "Jitu\n",
      "Linear Algebra : 98\n",
      "Python : 81\n",
      "English : 90\n",
      "\n",
      "\n",
      "Himanshu\n",
      "Linear Algebra : 91\n",
      "Python : 73\n",
      "English : 62\n",
      "\n",
      "\n",
      "Shishukant\n",
      "Linear Algebra : 59\n",
      "Python : 99\n",
      "English : 86\n",
      "\n",
      "\n"
     ]
    }
   ],
   "source": [
    "course_name=['Linear Algebra', 'Python', 'English']\n",
    "dict_marks={}          # creating new dictionary to add name and marks.\n",
    "dict_marks['Nikhil']=[82,84,72]\n",
    "dict_marks['Niku']=[87,83,78]\n",
    "dict_marks['Jitu']=[98,81,90]\n",
    "dict_marks['Himanshu']=[91,73,62]\n",
    "dict_marks['Shishukant']=[59,99,86]\n",
    "print(dict_marks,\"\\n\")\n",
    "\n",
    "course_name_len=len(course_name)\n",
    "for key,value in dict_marks.items():        # iterating over key and value.\n",
    "    print(key)\n",
    "    for i in range (course_name_len):\n",
    "        print(course_name[i],\":\",value[i])  # taking course_name and marks one by one. \n",
    "    print(\"\\n\")"
   ]
  }
 ],
 "metadata": {
  "kernelspec": {
   "display_name": "Python 3",
   "language": "python",
   "name": "python3"
  },
  "language_info": {
   "codemirror_mode": {
    "name": "ipython",
    "version": 3
   },
   "file_extension": ".py",
   "mimetype": "text/x-python",
   "name": "python",
   "nbconvert_exporter": "python",
   "pygments_lexer": "ipython3",
   "version": "3.11.4"
  }
 },
 "nbformat": 4,
 "nbformat_minor": 2
}
