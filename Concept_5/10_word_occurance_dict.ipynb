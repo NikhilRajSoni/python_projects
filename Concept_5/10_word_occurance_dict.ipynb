{
 "cells": [
  {
   "cell_type": "markdown",
   "metadata": {},
   "source": [
    "10. Create a text file with one word in each line. The words can be repeated, i.e. the same word can come in more than one line. Read this text file in python, and create a dictionary where the key is the word and the value is the number of times it occurs in the text file."
   ]
  },
  {
   "cell_type": "code",
   "execution_count": 1,
   "metadata": {},
   "outputs": [
    {
     "name": "stdout",
     "output_type": "stream",
     "text": [
      "{'Nikhil': 2, 'and': 1, 'Mayank': 2, 'are': 1, 'going': 1, 'to': 5, 'market': 2, 'has': 1, 'planned': 1, 'go': 2, 'the': 1, 'city': 1, 'but': 1, 'suggested': 1, 'him': 1}\n"
     ]
    }
   ],
   "source": [
    "x = open(\"note.txt\",\"r\")   # opening text file to read.\n",
    "y = x.readlines()          # read each line and stores in list.\n",
    "#print(y)\n",
    "dict_word = {}\n",
    "for i in y:\n",
    "    i = i.strip()          # to remove whitespace.\n",
    "    if i in dict_word.keys():\n",
    "        dict_word[i] += 1\n",
    "    else:\n",
    "        dict_word[i] = 1\n",
    "\n",
    "print(dict_word)"
   ]
  }
 ],
 "metadata": {
  "kernelspec": {
   "display_name": "Python 3",
   "language": "python",
   "name": "python3"
  },
  "language_info": {
   "codemirror_mode": {
    "name": "ipython",
    "version": 3
   },
   "file_extension": ".py",
   "mimetype": "text/x-python",
   "name": "python",
   "nbconvert_exporter": "python",
   "pygments_lexer": "ipython3",
   "version": "3.11.4"
  }
 },
 "nbformat": 4,
 "nbformat_minor": 2
}
