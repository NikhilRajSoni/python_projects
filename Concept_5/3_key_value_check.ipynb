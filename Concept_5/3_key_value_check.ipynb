{
 "cells": [
  {
   "cell_type": "markdown",
   "metadata": {},
   "source": [
    "3. Check if a key exists in a dictionary:\n",
    "sample_dict = {‘a’: 100, ‘b’: 200, ‘c’: 300}\n",
    "key_needed = ‘d’\n",
    "Check if a value exists in a dictionary:\n",
    "sample_dict = {‘a’: 100, ‘b’: 200, ‘c’: 300}\n",
    "value_needed = 200"
   ]
  },
  {
   "cell_type": "code",
   "execution_count": 5,
   "metadata": {},
   "outputs": [
    {
     "name": "stdout",
     "output_type": "stream",
     "text": [
      "d key is not present in the dictionary.\n",
      "200 value is present in the dictionary.\n"
     ]
    }
   ],
   "source": [
    "sample_dict = {'a': 100, 'b': 200, 'c': 300}\n",
    "key_needed = 'd'\n",
    "value_needed = 200\n",
    "# checking the condition for key and value separately.\n",
    "if key_needed in sample_dict.keys():\n",
    "    print(key_needed,\"key is present in the dictionary.\")\n",
    "else:\n",
    "    print(key_needed,\"key is not present in the dictionary.\")\n",
    "\n",
    "if value_needed in sample_dict.values():\n",
    "    print(value_needed,\"value is present in the dictionary.\")\n",
    "else:\n",
    "    print(value_needed,\"value is not present in the dictionary.\")"
   ]
  }
 ],
 "metadata": {
  "kernelspec": {
   "display_name": "Python 3",
   "language": "python",
   "name": "python3"
  },
  "language_info": {
   "codemirror_mode": {
    "name": "ipython",
    "version": 3
   },
   "file_extension": ".py",
   "mimetype": "text/x-python",
   "name": "python",
   "nbconvert_exporter": "python",
   "pygments_lexer": "ipython3",
   "version": "3.11.4"
  }
 },
 "nbformat": 4,
 "nbformat_minor": 2
}
