{
 "cells": [
  {
   "cell_type": "markdown",
   "metadata": {},
   "source": [
    "8. Create a dictionary of your marks in various subjects and then sort it by its values first in descending order, and then in or ascending order. Do not use any inbuilt sorting functions."
   ]
  },
  {
   "cell_type": "code",
   "execution_count": 1,
   "metadata": {},
   "outputs": [
    {
     "name": "stdout",
     "output_type": "stream",
     "text": [
      "Dictionary with marks in descending order: {'Linear_algebra': 26, 'Python': 14, 'English': 13.5}\n",
      "Dictionary with marks in ascending order: {'English': 13.5, 'Python': 14, 'Linear_algebra': 26}\n"
     ]
    }
   ],
   "source": [
    "dict_marks = {}       # creating dictionary of my marks.\n",
    "dict_marks[\"Linear_algebra\"] = 26\n",
    "dict_marks[\"English\"] = 13.5\n",
    "dict_marks[\"Python\"] = 14\n",
    "lst_value = []        # to store all marks as value in list\n",
    "for i in dict_marks.values():\n",
    "    lst_value.append(i)\n",
    "len_list = len(lst_value)\n",
    "# for DESCENDING order (By SWAPING METHOD)\n",
    "for j in range(len_list):\n",
    "    for k in range(j+1,len_list):\n",
    "        if lst_value[j] < lst_value[k]:   # taking two element each time to check\n",
    "            lst_value[j],lst_value[k] = lst_value[k],lst_value[j]  # swaping their position.\n",
    "\n",
    "dict_dec = {}         # creating empty dictionary to add subject-marks in descending order.\n",
    "for mark in lst_value:     # taking marks from list and then key corresponding to that marks, add in new dict.\n",
    "    for key,value in dict_marks.items():\n",
    "        if value == mark:    # comparing marks from list and dictionary.\n",
    "           dict_dec[key] = mark\n",
    "print(\"Dictionary with marks in descending order:\",dict_dec)\n",
    "\n",
    "# for ASCENDING order (By SWAPING METHOD)\n",
    "for j in range(len_list):\n",
    "    for k in range(j+1,len_list):\n",
    "        if lst_value[j] > lst_value[k]:   # taking two element each time to check\n",
    "            lst_value[j],lst_value[k] = lst_value[k],lst_value[j]   # swaping their position.\n",
    "\n",
    "dict_asc = {}\n",
    "for mark in lst_value:     # taking marks from list and then key corresponding to that marks, add in new dict.\n",
    "    for key,value in dict_marks.items():\n",
    "        if value == mark:\n",
    "           dict_asc[key] = mark\n",
    "print(\"Dictionary with marks in ascending order:\",dict_asc) \n",
    "\n"
   ]
  }
 ],
 "metadata": {
  "kernelspec": {
   "display_name": "Python 3",
   "language": "python",
   "name": "python3"
  },
  "language_info": {
   "codemirror_mode": {
    "name": "ipython",
    "version": 3
   },
   "file_extension": ".py",
   "mimetype": "text/x-python",
   "name": "python",
   "nbconvert_exporter": "python",
   "pygments_lexer": "ipython3",
   "version": "3.11.4"
  }
 },
 "nbformat": 4,
 "nbformat_minor": 2
}
