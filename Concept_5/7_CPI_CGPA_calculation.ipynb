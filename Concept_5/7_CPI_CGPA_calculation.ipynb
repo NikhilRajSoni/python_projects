{
 "cells": [
  {
   "cell_type": "markdown",
   "metadata": {},
   "source": [
    "7. Write a for loop to create another dictionary from the above where the marks are replaced by grades. Above 80 is A grade, 60–80 is B grade, 40–60 is C grade, and below 40 is F. Create another dictionary to store the max and average marks for each student. Use this dictionary to compute the final CPI/CGPA of the student. Course1 is of 4 credits, Course2 of 10 credits, and Course3 of 6 credits. Store these credits in a list. Write this dictionary as a json file, and read it back into a new dictionary."
   ]
  },
  {
   "cell_type": "code",
   "execution_count": 7,
   "metadata": {},
   "outputs": [
    {
     "name": "stdout",
     "output_type": "stream",
     "text": [
      "{'Nikhil': [82, 84, 72], 'Niku': [87, 83, 78], 'Jitu': [98, 81, 90], 'Himanshu': [91, 73, 62], 'Shishukant': [59, 99, 86]} \n",
      "\n",
      "Nikhil\n",
      "{'max_marks': 84, 'avg': 79.33333333333333} \n",
      "\n",
      "Niku\n",
      "{'max_marks': 87, 'avg': 82.66666666666667} \n",
      "\n",
      "Jitu\n",
      "{'max_marks': 98, 'avg': 89.66666666666667} \n",
      "\n",
      "Himanshu\n",
      "{'max_marks': 91, 'avg': 75.33333333333333} \n",
      "\n",
      "Shishukant\n",
      "{'max_marks': 99, 'avg': 81.33333333333333} \n",
      "\n",
      "{'Nikhil': ['A', 'A', 'B'], 'Niku': ['A', 'A', 'B'], 'Jitu': ['A', 'A', 'A'], 'Himanshu': ['A', 'B', 'B'], 'Shishukant': ['C', 'A', 'A']} \n",
      "\n",
      "Nikhil\n",
      "CPI: 9.7 \n",
      "\n",
      "Niku\n",
      "CPI: 9.7 \n",
      "\n",
      "Jitu\n",
      "CPI: 10.0 \n",
      "\n",
      "Himanshu\n",
      "CPI: 9.2 \n",
      "\n",
      "Shishukant\n",
      "CPI: 9.6 \n",
      "\n"
     ]
    }
   ],
   "source": [
    "course_name=['Linear Algebra', 'Python', 'English']\n",
    "dict_marks={}          # creating new dictionary to add name and marks.\n",
    "dict_marks['Nikhil']=[82,84,72]\n",
    "dict_marks['Niku']=[87,83,78]\n",
    "dict_marks['Jitu']=[98,81,90]\n",
    "dict_marks['Himanshu']=[91,73,62]\n",
    "dict_marks['Shishukant']=[59,99,86]\n",
    "print(dict_marks,\"\\n\")\n",
    "\n",
    "for key, value in dict_marks.items():\n",
    "    print(key)\n",
    "    dict_max_avg = {}   # creating empty dictionary to store max_marks and average of each student.\n",
    "    sum1=0\n",
    "    max_marks=value[0]\n",
    "    for i in value:\n",
    "        sum1 = sum1 + i\n",
    "        if i > max_marks:\n",
    "            max_marks=i\n",
    "        dict_max_avg['max_marks']= max_marks\n",
    "        dict_max_avg['avg']=sum1/len(course_name)\n",
    "    \n",
    "    print(dict_max_avg,\"\\n\")\n",
    "\n",
    "\n",
    "dict_grade = dict_marks.copy()\n",
    "for value in dict_grade.values():\n",
    "    for i in range(len(value)):\n",
    "        if value[i]>80:\n",
    "            value[i]='A'\n",
    "        elif value[i]>=60:\n",
    "            value[i]='B'\n",
    "        elif value[i]>=40:\n",
    "            value[i]='C'\n",
    "        else:\n",
    "            value[i]='F'\n",
    "print(dict_grade,\"\\n\")\n",
    "\n",
    "\n",
    "crs_crdt=[4,10,6]\n",
    "crdt_sum=0\n",
    "for i in crs_crdt:\n",
    "    crdt_sum += i\n",
    "crdt_dict = {'A':10, 'B':9, 'C':8,  'F':6}\n",
    "for key, value in dict_grade.items():\n",
    "    print(key)\n",
    "    add = 0\n",
    "    for x in range(len(value)):\n",
    "        add+=crdt_dict[value[x]]*crs_crdt[x]   # iterating credit correspondence to grade and multiplying with course credit.\n",
    "    print(\"CPI:\",add/crdt_sum,\"\\n\")\n"
   ]
  },
  {
   "cell_type": "code",
   "execution_count": 4,
   "metadata": {},
   "outputs": [
    {
     "name": "stdout",
     "output_type": "stream",
     "text": [
      "{\"Nikhil\": [\"A\", \"A\", \"B\"], \"Niku\": [\"A\", \"A\", \"B\"], \"Jitu\": [\"A\", \"A\", \"A\"], \"Himanshu\": [\"A\", \"B\", \"B\"], \"Shishukant\": [\"C\", \"A\", \"A\"]}\n"
     ]
    }
   ],
   "source": [
    "a = dict_grade.copy()      # copying dict_grade as a.\n",
    "# import json module\n",
    "import json\n",
    "y = json.dumps(a)          # dump() function allows to store json data.\n",
    "print(y)\n",
    "\n"
   ]
  },
  {
   "cell_type": "code",
   "execution_count": 5,
   "metadata": {},
   "outputs": [
    {
     "name": "stdout",
     "output_type": "stream",
     "text": [
      "{'Nikhil': ['A', 'A', 'B'], 'Niku': ['A', 'A', 'B'], 'Jitu': ['A', 'A', 'A'], 'Himanshu': ['A', 'B', 'B'], 'Shishukant': ['C', 'A', 'A']}\n"
     ]
    }
   ],
   "source": [
    "import json\n",
    "x = json.loads(y)        # load() function converts json data into python object.\n",
    "print(x)\n"
   ]
  }
 ],
 "metadata": {
  "kernelspec": {
   "display_name": "Python 3",
   "language": "python",
   "name": "python3"
  },
  "language_info": {
   "codemirror_mode": {
    "name": "ipython",
    "version": 3
   },
   "file_extension": ".py",
   "mimetype": "text/x-python",
   "name": "python",
   "nbconvert_exporter": "python",
   "pygments_lexer": "ipython3",
   "version": "3.11.4"
  }
 },
 "nbformat": 4,
 "nbformat_minor": 2
}
