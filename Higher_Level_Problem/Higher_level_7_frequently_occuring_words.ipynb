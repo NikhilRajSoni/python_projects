{
 "cells": [
  {
   "cell_type": "markdown",
   "metadata": {},
   "source": [
    "7. Read in a text file and find the 10 most frequently occurring words in the file."
   ]
  },
  {
   "cell_type": "code",
   "execution_count": 10,
   "metadata": {},
   "outputs": [
    {
     "name": "stdout",
     "output_type": "stream",
     "text": [
      "List of the 10 most frequent occuring words is :  ['THE', 'OF', 'AND', 'A', 'IN', 'INDIA', 'INDIAN', 'BRITISH', 'WITH', 'BCE']\n"
     ]
    }
   ],
   "source": [
    "# Opening text file in python as 'a'.\n",
    "a = open(\"Indian_history.txt\",\"r+\")\n",
    "\n",
    "# Creating a list of the lines from the file.\n",
    "list_line = []       # to append lines of list\n",
    "for b in a:       # iterating over file\n",
    "    list_line.append(b.strip())    # appending lines after removing whitespace from starting and ending.   \n",
    "    \n",
    "# Creating a list of the word from the list of lines.\n",
    "list_word = []\n",
    "for i in list_line:\n",
    "    # to avoid considering punctuation marks and space as word:\n",
    "    if i!=' ' and i!='.' and i!='?' and i!='!' and i!=';' and i!=':' and i!=',':\n",
    "        str1=''    # empty string to store words.\n",
    "        for x in i:\n",
    "            # again to avoid considering punctuation marks and space as string character.\n",
    "            if x!=' ' and x!='.' and x!='?' and x!='!' and x!=';' and x!=':' and x!=',':\n",
    "                str1=str1+x\n",
    "            else: # if whitespace is found.\n",
    "                if str1!='':\n",
    "                    list_word.append(str1)    # Append that word into the list of the words.\n",
    "                str1=''  # in order to reset as word is appended.\n",
    "\n",
    "dict_word = {}\n",
    "for word in list_word:      # to iterate through each word.\n",
    "    y = word.upper()           # no two same words can be treated different.\n",
    "    count=0                 # assigning variable to count.\n",
    "    for p in list_word:    \n",
    "        n = p.upper()         # all upper case letter to avoid treating different words for same words.\n",
    "        if y == n:            # comparing if equal count increases by 1.\n",
    "            count += 1\n",
    "    \n",
    "    dict_word[y] = count      # adding key, value to the dictionary\n",
    "\n",
    "value_lst = []           # for values in dictionary.\n",
    "for value in dict_word.values():\n",
    "    value_lst.append(value)\n",
    "value_lst.sort()       # to get in ascending order.\n",
    "value_lst.reverse()    # reversing to get in descending order.\n",
    "\n",
    "# To find 10 most frequent words from the list..\n",
    "high_freq_word = []     # to store 10 most frequent words.\n",
    "for l in range(10):    # To get required 10 words..\n",
    "    for key,value in dict_word.items():\n",
    "        # Gives the keys corresponding to the most frequent occuring word..  \n",
    "        if value==value_lst[l]:\n",
    "            if key not in high_freq_word and len(high_freq_word)!=10:  # as length becomes 10, no need to append further.\n",
    "                high_freq_word.append(key)\n",
    "print(\"List of the 10 most frequent occuring words is : \",high_freq_word)"
   ]
  },
  {
   "cell_type": "code",
   "execution_count": null,
   "metadata": {},
   "outputs": [],
   "source": []
  }
 ],
 "metadata": {
  "kernelspec": {
   "display_name": "Python 3",
   "language": "python",
   "name": "python3"
  },
  "language_info": {
   "codemirror_mode": {
    "name": "ipython",
    "version": 3
   },
   "file_extension": ".py",
   "mimetype": "text/x-python",
   "name": "python",
   "nbconvert_exporter": "python",
   "pygments_lexer": "ipython3",
   "version": "3.11.4"
  }
 },
 "nbformat": 4,
 "nbformat_minor": 2
}
