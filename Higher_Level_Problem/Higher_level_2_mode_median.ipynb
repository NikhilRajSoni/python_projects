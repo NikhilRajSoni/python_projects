{
 "cells": [
  {
   "cell_type": "markdown",
   "metadata": {},
   "source": [
    "2. Given a list of numbers, find out the median and mode."
   ]
  },
  {
   "cell_type": "code",
   "execution_count": 3,
   "metadata": {},
   "outputs": [
    {
     "name": "stdout",
     "output_type": "stream",
     "text": [
      "median of [2, 3, 4, 6, 7, 7, 8, 9, 9, 14] is:  7.0\n",
      "no. of times each number occurs: {2: 1, 3: 1, 4: 1, 6: 1, 7: 2, 8: 1, 9: 2, 14: 1}\n",
      "Mode of the list [2, 3, 4, 6, 7, 7, 8, 9, 9, 14] is: 7\n",
      "Mode of the list [2, 3, 4, 6, 7, 7, 8, 9, 9, 14] is: 9\n"
     ]
    }
   ],
   "source": [
    "list_a = [2,7,9,4,6,3,8,14,7,9]  \n",
    "# for median of the given list:  \n",
    "len_list = len(list_a)\n",
    "for i in range(len_list):       # firstly, list is sorted using swaping technique.\n",
    "    for j in range(i+1,len_list):   # i+1 is used to compare with the number ater the taken one.\n",
    "        if list_a[i] > list_a[j]:\n",
    "            list_a[i],list_a[j] = list_a[j],list_a[i]\n",
    "\n",
    "if len_list%2 == 0:   # if length is even number then two middle most numbers are present.\n",
    "    median = (list_a[len_list//2 -1] + list_a[len_list//2])/2  # adding both numbers and dividing by 2 will be median.\n",
    "else:          # if length is odd number then middle most number will be median.\n",
    "    median = list_a[len_list//2]  \n",
    "\n",
    "print(\"median of\",list_a,\"is: \",median)\n",
    "# for mode of the given list:\n",
    "dict_occur = {}    # creating empty dictionary to store number and its count.\n",
    "for k in list_a:\n",
    "    if k not in dict_occur:\n",
    "        dict_occur[k] = 1\n",
    "    else:   # if already present then its count increases by 1 each time.\n",
    "        dict_occur[k] += 1\n",
    "\n",
    "value_list = []     # creating empty list to store all values of dictionary.\n",
    "for l in dict_occur.values():\n",
    "    value_list.append(l)\n",
    "max_value = value_list[0]    # taking first number of list as max_value to compare.\n",
    "for m in value_list:\n",
    "    if m > max_value:        # to get original max_value in the value_list.\n",
    "        max_value = m\n",
    "\n",
    "for key, value in dict_occur.items():  # iterating through the number(key) and its occurance(value) in the given list\n",
    "    if value == max_value:   # comparing to get the key corresponding to the max_value will be \"MODE\".\n",
    "        print(\"Mode of the list\",list_a,\"is:\",key)"
   ]
  }
 ],
 "metadata": {
  "kernelspec": {
   "display_name": "Python 3",
   "language": "python",
   "name": "python3"
  },
  "language_info": {
   "codemirror_mode": {
    "name": "ipython",
    "version": 3
   },
   "file_extension": ".py",
   "mimetype": "text/x-python",
   "name": "python",
   "nbconvert_exporter": "python",
   "pygments_lexer": "ipython3",
   "version": "3.11.4"
  }
 },
 "nbformat": 4,
 "nbformat_minor": 2
}
