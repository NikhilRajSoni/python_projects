{
 "cells": [
  {
   "cell_type": "markdown",
   "metadata": {},
   "source": [
    "1. Given a list of numbers, sort it in ascending order."
   ]
  },
  {
   "cell_type": "code",
   "execution_count": 4,
   "metadata": {},
   "outputs": [
    {
     "data": {
      "text/plain": [
       "[10, 12, 23, 45, 49, 56, 68, 98]"
      ]
     },
     "execution_count": 4,
     "metadata": {},
     "output_type": "execute_result"
    }
   ],
   "source": [
    "# SWAPING TECHNIQUE comparing two - two numbers.\n",
    "# Defining a function to take a list of numbers as input.\n",
    "def func_list(my_list):\n",
    "    l = len(my_list)   \n",
    "    for i in range(l):  \n",
    "        for j in range(i+1,l):  # iterating each element to compare.\n",
    "            if my_list[i] > my_list[j]: # comparing two consecutive elements.\n",
    "                my_list[i],my_list[j] = my_list[j],my_list[i]    # swaping the position.\n",
    "    return my_list\n",
    "\n",
    "func_list([56,23,45,12,98,49,68,10])\n"
   ]
  }
 ],
 "metadata": {
  "kernelspec": {
   "display_name": "Python 3",
   "language": "python",
   "name": "python3"
  },
  "language_info": {
   "codemirror_mode": {
    "name": "ipython",
    "version": 3
   },
   "file_extension": ".py",
   "mimetype": "text/x-python",
   "name": "python",
   "nbconvert_exporter": "python",
   "pygments_lexer": "ipython3",
   "version": "3.11.4"
  }
 },
 "nbformat": 4,
 "nbformat_minor": 2
}
