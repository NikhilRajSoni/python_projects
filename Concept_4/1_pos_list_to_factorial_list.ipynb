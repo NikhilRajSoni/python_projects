{
 "cells": [
  {
   "cell_type": "markdown",
   "metadata": {},
   "source": [
    "1. Given a list of positive integers, find the factorial of all the numbers."
   ]
  },
  {
   "cell_type": "code",
   "execution_count": 3,
   "metadata": {},
   "outputs": [
    {
     "data": {
      "text/plain": [
       "('Factorial of respective positive integer in list is/are: ',\n",
       " [1307674368000, 1, 2, 6])"
      ]
     },
     "execution_count": 3,
     "metadata": {},
     "output_type": "execute_result"
    }
   ],
   "source": [
    "# Defining a function to take list of positive integers.\n",
    "def func_list(my_list):\n",
    "    fact_list = []                        # creating empty list to store facrotial of each value.\n",
    "    for i in my_list:                         \n",
    "        factorial = 1                     # defining variable to store factorial.\n",
    "        for j in range(2,i+1):            # iterating loop from 2 since multiplying by 1 will remain equal to the assigned value in variable.\n",
    "            factorial *= j                \n",
    "        fact_list.append(factorial)       \n",
    "    \n",
    "    return \"Factorial of respective positive integer in list is/are: \",fact_list\n",
    "\n",
    "\n",
    "func_list([15,1,2,3])"
   ]
  },
  {
   "cell_type": "code",
   "execution_count": 4,
   "metadata": {},
   "outputs": [
    {
     "data": {
      "text/plain": [
       "('Factorial of respective positive integer in list is/are: ', [])"
      ]
     },
     "execution_count": 4,
     "metadata": {},
     "output_type": "execute_result"
    }
   ],
   "source": [
    "func_list([])"
   ]
  }
 ],
 "metadata": {
  "kernelspec": {
   "display_name": "Python 3",
   "language": "python",
   "name": "python3"
  },
  "language_info": {
   "codemirror_mode": {
    "name": "ipython",
    "version": 3
   },
   "file_extension": ".py",
   "mimetype": "text/x-python",
   "name": "python",
   "nbconvert_exporter": "python",
   "pygments_lexer": "ipython3",
   "version": "3.11.4"
  }
 },
 "nbformat": 4,
 "nbformat_minor": 2
}
