{
 "cells": [
  {
   "cell_type": "markdown",
   "metadata": {},
   "source": [
    "10. Given two 3x3 matrices with values stored in two lists of length 9, find their product."
   ]
  },
  {
   "cell_type": "code",
   "execution_count": 6,
   "metadata": {},
   "outputs": [
    {
     "data": {
      "text/plain": [
       "[30, 24, 18, 84, 69, 54, 138, 114, 90]"
      ]
     },
     "execution_count": 6,
     "metadata": {},
     "output_type": "execute_result"
    }
   ],
   "source": [
    "# defining function to take two matrices in lists of length 9.\n",
    "def func_mat(m1,m2):\n",
    "    m1r1 = []          # created empty list to store values as row1,row2,row3 from matrix1.\n",
    "    m1r2 = []\n",
    "    m1r3 = []\n",
    "    m1_new = []        # created empty list to append all three rows from matrix1.\n",
    "    m2r1 = []          # created empty list to store values as row1,row2,row3 from matrix2.\n",
    "    m2r2 = []\n",
    "    m2r3 = []\n",
    "    m2_new = []        # created empty list to append all three rows from matrix2.\n",
    "    for j in range(3):\n",
    "        m1r1.append(m1[j])  # row 1 of matrix 1\n",
    "    for j in range(3,6):\n",
    "        m1r2.append(m1[j])  # row 2 of matrix 1\n",
    "    for j in range(6,9):\n",
    "        m1r3.append(m1[j])  # row 3 of matrix 1\n",
    "    m1_new.append(m1r1)\n",
    "    m1_new.append(m1r2)\n",
    "    m1_new.append(m1r3)\n",
    "\n",
    "    for l in range(3):     # row 1 of matrix 2\n",
    "        m2r1.append(m2[l])\n",
    "    for l in range(3,6):   # row 2 of matrix 2\n",
    "        m2r2.append(m2[l])\n",
    "    for l in range(6,9):   # row 3 of matrix 2\n",
    "        m2r3.append(m2[l])\n",
    "    m2_new.append(m2r1)\n",
    "    m2_new.append(m2r2)\n",
    "    m2_new.append(m2r3)\n",
    "    result = [[0,0,0],[0,0,0],[0,0,0]]   # creating a result matrix as list of lists.\n",
    "    res_final = []                       # empty list to extend all values to make result matrix of length 9 as given matrices.\n",
    "    for a in range(len(m1_new)):         \n",
    "        for b in range(len(m2_new[0])):\n",
    "            for c in range(len(m2_new)):\n",
    "                result[a][b] += m1_new[a][c]*m2_new[c][b]  # updating each entry in result matrix.\n",
    "    for i in result:\n",
    "        res_final.extend(i)             # extend() function is used to created result matrix of length 9.\n",
    "    return res_final\n",
    "\n",
    "func_mat([1,2,3,4,5,6,7,8,9],[9,8,7,6,5,4,3,2,1])"
   ]
  }
 ],
 "metadata": {
  "kernelspec": {
   "display_name": "Python 3",
   "language": "python",
   "name": "python3"
  },
  "language_info": {
   "codemirror_mode": {
    "name": "ipython",
    "version": 3
   },
   "file_extension": ".py",
   "mimetype": "text/x-python",
   "name": "python",
   "nbconvert_exporter": "python",
   "pygments_lexer": "ipython3",
   "version": "3.11.4"
  }
 },
 "nbformat": 4,
 "nbformat_minor": 2
}
