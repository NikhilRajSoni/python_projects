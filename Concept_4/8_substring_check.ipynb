{
 "cells": [
  {
   "cell_type": "markdown",
   "metadata": {},
   "source": [
    "8. Given a string input, find out if it contains a particular substring."
   ]
  },
  {
   "cell_type": "code",
   "execution_count": 1,
   "metadata": {},
   "outputs": [
    {
     "data": {
      "text/plain": [
       "(True,\n",
       " 'Myself Nikhil Raj Soni, currently pursuing the BTech in CSE from the best university, SITARE UNIVERSITY.',\n",
       " 'contains the substring',\n",
       " 'university')"
      ]
     },
     "execution_count": 1,
     "metadata": {},
     "output_type": "execute_result"
    }
   ],
   "source": [
    "# defining a function to take any string as input.\n",
    "def func_string(my_string):\n",
    "    sub_str = input(\"Enter anything as substring...\")     # taking substring as input from user to check.\n",
    "    if sub_str in my_string:                              # if substring is present in the string.\n",
    "        return True,my_string,\"contains the substring\",sub_str\n",
    "    else:                                                 # if substring is not present in the string.\n",
    "        return False,my_string,\"does not contain the substring\",sub_str\n",
    "    \n",
    "\n",
    "func_string(\"Myself Nikhil Raj Soni, currently pursuing the BTech in CSE from the best university, SITARE UNIVERSITY.\")"
   ]
  },
  {
   "cell_type": "code",
   "execution_count": 2,
   "metadata": {},
   "outputs": [
    {
     "data": {
      "text/plain": [
       "(False,\n",
       " 'Myself Nikhil Raj Soni, currently pursuing the BTech in CSE from the best university, SITARE UNIVERSITY.',\n",
       " 'does not contain the substring',\n",
       " 'Kushal Sir')"
      ]
     },
     "execution_count": 2,
     "metadata": {},
     "output_type": "execute_result"
    }
   ],
   "source": [
    "func_string(\"Myself Nikhil Raj Soni, currently pursuing the BTech in CSE from the best university, SITARE UNIVERSITY.\")"
   ]
  }
 ],
 "metadata": {
  "kernelspec": {
   "display_name": "Python 3",
   "language": "python",
   "name": "python3"
  },
  "language_info": {
   "codemirror_mode": {
    "name": "ipython",
    "version": 3
   },
   "file_extension": ".py",
   "mimetype": "text/x-python",
   "name": "python",
   "nbconvert_exporter": "python",
   "pygments_lexer": "ipython3",
   "version": "3.11.4"
  }
 },
 "nbformat": 4,
 "nbformat_minor": 2
}
