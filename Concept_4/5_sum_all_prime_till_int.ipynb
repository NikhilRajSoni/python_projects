{
 "cells": [
  {
   "cell_type": "markdown",
   "metadata": {},
   "source": [
    "5. Given a positive integers, find out the sum of all prime numbers from 1 up to this number."
   ]
  },
  {
   "cell_type": "code",
   "execution_count": 1,
   "metadata": {},
   "outputs": [
    {
     "data": {
      "text/plain": [
       "(True, 'Sum of all prime integers till', 100, '=', 1060)"
      ]
     },
     "execution_count": 1,
     "metadata": {},
     "output_type": "execute_result"
    }
   ],
   "source": [
    "# defining a function to take any positive integer.\n",
    "def func_int(pos_int):\n",
    "    prime_sum = 0                # defing a vriable to add all prime integers till the entered integer.\n",
    "    for i in range(2,pos_int+1): # started from 2 since no need to check for 1 as 2 is least prime integer.\n",
    "        factor = 0               # defining variable to count factor of the integer belonging from range of entered integer.\n",
    "        for j in range(2,int(i**0.5)+1):     # iterating loop from 2 to int(sq.root+1) of taken integer.\n",
    "            if i % j == 0:                   # checking if integers in range is completely divisible by any of integer in taken range.\n",
    "                factor += 1                  # if comp. divisible then factor increases by 1.\n",
    "        if factor == 0:                      # comparing factor-count if zero then that integer will be prime integer.\n",
    "            prime_sum += i                   # adding all prime integer and storing in defined variable\n",
    "    return True,\"Sum of all prime integers till\",pos_int,\"=\",prime_sum \n",
    "          \n",
    "    \n",
    "func_int(100)"
   ]
  },
  {
   "cell_type": "code",
   "execution_count": 2,
   "metadata": {},
   "outputs": [
    {
     "data": {
      "text/plain": [
       "(True, 'Sum of all prime integers till', 1, '=', 0)"
      ]
     },
     "execution_count": 2,
     "metadata": {},
     "output_type": "execute_result"
    }
   ],
   "source": [
    "func_int(1)"
   ]
  },
  {
   "cell_type": "code",
   "execution_count": 7,
   "metadata": {},
   "outputs": [
    {
     "data": {
      "text/plain": [
       "(True, 'Sum of all prime integers till', 3, '=', 5)"
      ]
     },
     "execution_count": 7,
     "metadata": {},
     "output_type": "execute_result"
    }
   ],
   "source": [
    "func_int(3)"
   ]
  }
 ],
 "metadata": {
  "kernelspec": {
   "display_name": "Python 3",
   "language": "python",
   "name": "python3"
  },
  "language_info": {
   "codemirror_mode": {
    "name": "ipython",
    "version": 3
   },
   "file_extension": ".py",
   "mimetype": "text/x-python",
   "name": "python",
   "nbconvert_exporter": "python",
   "pygments_lexer": "ipython3",
   "version": "3.11.4"
  }
 },
 "nbformat": 4,
 "nbformat_minor": 2
}
