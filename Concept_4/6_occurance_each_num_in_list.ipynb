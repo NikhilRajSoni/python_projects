{
 "cells": [
  {
   "cell_type": "markdown",
   "metadata": {},
   "source": [
    "6. Given a list of numbers, find out how many times each number occurs in the list."
   ]
  },
  {
   "cell_type": "code",
   "execution_count": 3,
   "metadata": {},
   "outputs": [
    {
     "name": "stdout",
     "output_type": "stream",
     "text": [
      "number of occurance of -1 is:  2\n",
      "number of occurance of 4 is:  4\n",
      "number of occurance of 1 is:  2\n",
      "number of occurance of 0 is:  3\n",
      "number of occurance of 5 is:  1\n",
      "number of occurance of 2 is:  1\n",
      "number of occurance of 53 is:  1\n",
      "number of occurance of 67 is:  1\n",
      "number of occurance of 243 is:  1\n",
      "number of occurance of 789 is:  1\n",
      "number of occurance of 44 is:  1\n",
      "number of occurance of -44 is:  1\n",
      "number of occurance of 3 is:  1\n",
      "number of occurance of 23 is:  1\n"
     ]
    }
   ],
   "source": [
    "# defining a function to take a list of numbers as input.\n",
    "def func_list(my_list):\n",
    "    dist_list = []                    # creating empty list\n",
    "    for num in my_list:\n",
    "        if num not in dist_list:      # in order to write repeated numbers(if any) from list as one time.\n",
    "            dist_list.append(num)\n",
    "\n",
    "    for ele in dist_list:             # iterating loop to take each element from dist_list\n",
    "        count = 0\n",
    "        for num in my_list:          \n",
    "            if ele == num:            # comparing with each numbers in my_list and increasing count by 1.\n",
    "                count += 1\n",
    "        print(\"number of occurance of\",ele,\"is: \",count) # need many times to print so print() is used.\n",
    "    \n",
    "    \n",
    "\n",
    "func_list([-1,4,1,0,0,0,4,1,5,2,53,67,243,789,44,-44,3,23,4,-1,4])"
   ]
  },
  {
   "cell_type": "code",
   "execution_count": 4,
   "metadata": {},
   "outputs": [
    {
     "name": "stdout",
     "output_type": "stream",
     "text": [
      "number of occurance of 1 is:  3\n",
      "number of occurance of -3 is:  3\n",
      "number of occurance of 0 is:  6\n"
     ]
    }
   ],
   "source": [
    "func_list([1,1,1,-3,-3,-3,0,0,0,-0,-0,-0])    # as there is no significance of writing 0 and -0, so occurance of 0 showed inclussive of both if typed 0 and -0 separately."
   ]
  }
 ],
 "metadata": {
  "kernelspec": {
   "display_name": "Python 3",
   "language": "python",
   "name": "python3"
  },
  "language_info": {
   "codemirror_mode": {
    "name": "ipython",
    "version": 3
   },
   "file_extension": ".py",
   "mimetype": "text/x-python",
   "name": "python",
   "nbconvert_exporter": "python",
   "pygments_lexer": "ipython3",
   "version": "3.11.4"
  }
 },
 "nbformat": 4,
 "nbformat_minor": 2
}
