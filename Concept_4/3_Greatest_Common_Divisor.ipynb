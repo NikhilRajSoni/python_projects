{
 "cells": [
  {
   "cell_type": "markdown",
   "metadata": {},
   "source": [
    "3. Given two numbers, find its Greatest Common Divisor (Divisor)."
   ]
  },
  {
   "cell_type": "code",
   "execution_count": 6,
   "metadata": {},
   "outputs": [
    {
     "data": {
      "text/plain": [
       "('True', 'GCD is', 5)"
      ]
     },
     "execution_count": 6,
     "metadata": {},
     "output_type": "execute_result"
    }
   ],
   "source": [
    "# METHOD - 1\n",
    "# defining function to take two number as input \n",
    "def func_gcd(x,y):\n",
    "    if x == 0 and y == 0:               # if both 0 then \"undefined\"\n",
    "        return \"False\",\"GCD is undefined\"\n",
    "    elif x == 0 and y != 0:\n",
    "        if y > 0:\n",
    "            return \"True\",\"GCD is\",y\n",
    "        else:                           # since GCD can't be negative so multiplying by -1.\n",
    "            return \"True\",\"GCD is\",-y\n",
    "    elif y == 0 and x != 0:\n",
    "        if x > 0:\n",
    "            return \"True\",\"GCD is\",x\n",
    "        else:                           # since GCD can't be negative so multiplying by -1.\n",
    "            return \"True\",\"GCD is\",-x\n",
    "    elif x < 0 and y < 0:               # if negative number is taken then multiplying by -1 we proceed.\n",
    "        X = -x\n",
    "        Y = -y\n",
    "        for i in range(1, min(X,Y)+1):  # need to iterate till smaller number.\n",
    "            if X%i == 0 and Y%i == 0:   \n",
    "                GCD = i                 # last iterated \"i\", which completely divides both numbers will become GCD. \n",
    "        return \"True\",\"GCD is\",GCD\n",
    "    elif x < 0 and y > 0:               # if x is negative then making it positive....\n",
    "        X = -x\n",
    "        for i in range(1, min(X,y)+1):  # need to iterate till smaller number.\n",
    "            if X%i == 0 and y%i == 0:\n",
    "                GCD = i                 # last iterated \"i\", which completely divides both numbers will become GCD.\n",
    "        return \"True\",\"GCD is\",GCD\n",
    "    elif y < 0 and x > 0:               # if y is negative then making it positive....\n",
    "        Y = -y\n",
    "        for i in range(1, min(x,Y)+1):\n",
    "            if x%i == 0 and Y%i == 0:\n",
    "                GCD = i                 # last iterated \"i\", which completely divides both numbers will become GCD.\n",
    "        return \"True\",\"GCD is\",GCD\n",
    "    else:                               # if both x and y are positive\n",
    "        for i in range(1, min(x,y)+1):\n",
    "            if x%i == 0 and y%i == 0:\n",
    "                GCD = i                 # last iterated \"i\", which completely divides both numbers will become GCD.\n",
    "        return \"True\",\"GCD is\",GCD  \n",
    "    \n",
    "\n",
    "func_gcd(15,80)\n",
    "#func_gcd(0,0)\n",
    "#func_gcd(12,-36)\n",
    "#func_gcd(-13,17)\n",
    "#func_gcd(-3,-10)\n",
    "#func_gcd(0,7)\n",
    "#func_gcd(19,0)\n",
    "#func_gcd(0,-31)\n",
    "#func_gcd(-5,0)\n",
    "    \n"
   ]
  },
  {
   "cell_type": "code",
   "execution_count": 2,
   "metadata": {},
   "outputs": [
    {
     "data": {
      "text/plain": [
       "('True', 'GCD is', 12)"
      ]
     },
     "execution_count": 2,
     "metadata": {},
     "output_type": "execute_result"
    }
   ],
   "source": [
    "# METHOD - 2(Recursion)\n",
    "# defining function to take two number as input\n",
    "def func_gcd(x,y):\n",
    "    if x > 0 and y > 0:\n",
    "        for i in range(1, min(x,y)+1):     # for GCD we need to check dividing each numbers till smaller number.\n",
    "            if x%i == 0 and y%i == 0:\n",
    "                GCD = i                    # last iterated 'i' which completely divides both, will become the GCD.\n",
    "        return \"True\",\"GCD is\",GCD\n",
    "    elif x < 0 and y < 0:\n",
    "        return func_gcd(-x,-y)             # if both negative numbers then converting them into positive and recursing them.\n",
    "    elif x > 0 and y < 0:\n",
    "        return func_gcd(x,-y)              # if y is negative number then converting it into positive and recursing x and y.\n",
    "    elif x < 0 and y > 0:\n",
    "        return func_gcd(-x,y)              # if x is negative number then converting it into positive and recursing x and y.\n",
    "    elif x == 0 and y == 0:\n",
    "        return \"False\",\"GCD is undefined\"\n",
    "    elif x == 0 and y != 0:                \n",
    "        if y > 0:\n",
    "            return \"True\",\"GCD is\",y\n",
    "        else:                              # since GCD can't be negative so multiplying by -1.\n",
    "            return \"True\",\"GCD is\",-y\n",
    "    else:                                  #y == 0 and x != 0:\n",
    "        if x > 0:\n",
    "            return \"True\",\"GCD is\",x\n",
    "        else:                              # since GCD can't be negative so multiplying by -1.\n",
    "            return \"True\",\"GCD is\",-x\n",
    "        \n",
    "\n",
    "\n",
    "#func_gcd(4,12)\n",
    "#func_gcd(0,0)\n",
    "func_gcd(12,-36)\n",
    "#func_gcd(-13,17)\n",
    "#func_gcd(-3,-10)\n",
    "#func_gcd(0,7)\n",
    "#func_gcd(19,0)\n",
    "#func_gcd(0,-31)\n",
    "#func_gcd(-5,0)\n",
    "    "
   ]
  }
 ],
 "metadata": {
  "kernelspec": {
   "display_name": "Python 3",
   "language": "python",
   "name": "python3"
  },
  "language_info": {
   "codemirror_mode": {
    "name": "ipython",
    "version": 3
   },
   "file_extension": ".py",
   "mimetype": "text/x-python",
   "name": "python",
   "nbconvert_exporter": "python",
   "pygments_lexer": "ipython3",
   "version": "3.11.4"
  }
 },
 "nbformat": 4,
 "nbformat_minor": 2
}
