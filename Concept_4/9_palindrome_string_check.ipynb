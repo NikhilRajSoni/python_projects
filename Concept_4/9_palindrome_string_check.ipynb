{
 "cells": [
  {
   "cell_type": "markdown",
   "metadata": {},
   "source": [
    "9. Given a string input, find out if it’s a palindrome."
   ]
  },
  {
   "cell_type": "code",
   "execution_count": 14,
   "metadata": {},
   "outputs": [
    {
     "data": {
      "text/plain": [
       "(True, 'jahaj', 'is a palindrom.')"
      ]
     },
     "execution_count": 14,
     "metadata": {},
     "output_type": "execute_result"
    }
   ],
   "source": [
    "# METHOD - 1\n",
    "# defining a function to take a string as input.\n",
    "def func_pldrm(str_check):\n",
    "    str_check = str_check.strip()                 # to remove whitespace.\n",
    "    l = len(str_check)                            # length using inbuilt function.\n",
    "    if str_check[:l//2] == str_check[:(-l-1)//2:-1]: # comparing starting half and last half.\n",
    "        return True,str_check,\"is a palindrom.\"\n",
    "    else:\n",
    "        return False,str_check,\"is not a palindrom.\"\n",
    "    \n",
    "func_pldrm(\"jahaj\")"
   ]
  },
  {
   "cell_type": "code",
   "execution_count": 2,
   "metadata": {},
   "outputs": [
    {
     "data": {
      "text/plain": [
       "(True, 'jaaj', 'is a palindrom.')"
      ]
     },
     "execution_count": 2,
     "metadata": {},
     "output_type": "execute_result"
    }
   ],
   "source": [
    "func_pldrm(\" jaaj\")"
   ]
  },
  {
   "cell_type": "code",
   "execution_count": 1,
   "metadata": {},
   "outputs": [
    {
     "data": {
      "text/plain": [
       "(True, 'abcba', 'is a palindrom.')"
      ]
     },
     "execution_count": 1,
     "metadata": {},
     "output_type": "execute_result"
    }
   ],
   "source": [
    "# METHOD - 2\n",
    "# defining a function to take a string as input.\n",
    "def func_pldrm(str_check):\n",
    "    str_check = str_check.strip()                # to remove whitespace.\n",
    "    l = len(str_check)                           # length using inbuilt function.\n",
    "    count = 0                                    # defined variable to store count.\n",
    "    for i in range(l//2):                        # to iterate till half the length of string.\n",
    "        if str_check[i] != str_check[l-i-1]:     # if character from starting and ending are not same till half the length.\n",
    "            count += 1                           # count increases by 1.\n",
    "\n",
    "    if count == 0:                               # if all compared characters are same means count is zero.\n",
    "        return True,str_check,\"is a palindrom.\"\n",
    "    else:                                        # if any compared character is different.\n",
    "        return False,str_check,\"is not a palindrom.\"\n",
    "    \n",
    "\n",
    "func_pldrm(\"  abcba \")"
   ]
  }
 ],
 "metadata": {
  "kernelspec": {
   "display_name": "Python 3",
   "language": "python",
   "name": "python3"
  },
  "language_info": {
   "codemirror_mode": {
    "name": "ipython",
    "version": 3
   },
   "file_extension": ".py",
   "mimetype": "text/x-python",
   "name": "python",
   "nbconvert_exporter": "python",
   "pygments_lexer": "ipython3",
   "version": "3.11.4"
  }
 },
 "nbformat": 4,
 "nbformat_minor": 2
}
