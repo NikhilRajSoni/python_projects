{
 "cells": [
  {
   "cell_type": "markdown",
   "metadata": {},
   "source": [
    "7. Given a list of integers, find all pairs of integers in the list whose sum is zero."
   ]
  },
  {
   "cell_type": "code",
   "execution_count": 24,
   "metadata": {},
   "outputs": [
    {
     "name": "stdout",
     "output_type": "stream",
     "text": [
      "[(1, -1), (2, -2), (4, -4), (5, -5), (0, 0)]\n"
     ]
    }
   ],
   "source": [
    "# METHOD 1\n",
    "list_a = [1,2,3,4,5,6,-1,-2,-4,-5,0,9,0]\n",
    "len_list = len(list_a)     \n",
    "list_pair = []            # creating list for appending pair.\n",
    "for i in range(len_list): \n",
    "    for j in range(i+1,len_list):      # iterating after the 'i'th numbers to avoid extra steps.\n",
    "        if list_a[i]+list_a[j] == 0:   # if sum becomes 0.\n",
    "            pair = (list_a[i],list_a[j])\n",
    "            if pair not in list_pair:      # checking if pair not present in list. \n",
    "               list_pair.append(pair)\n",
    "print(list_pair)\n",
    "\n"
   ]
  },
  {
   "cell_type": "code",
   "execution_count": 14,
   "metadata": {},
   "outputs": [
    {
     "data": {
      "text/plain": [
       "[(0, 0), (1, -1), (2, -2), (3, -3), (4, -4)]"
      ]
     },
     "execution_count": 14,
     "metadata": {},
     "output_type": "execute_result"
    }
   ],
   "source": [
    "# METHOD 2\n",
    "# defining a function to take list of integers as input.    \n",
    "def func_list(my_list):    \n",
    "    pair_sum_zero = []       # to store required pairs.\n",
    "    pos_list = []            # storing positive integers from list.\n",
    "    neg_list = []            # storing negative integers from list.\n",
    "    for i in my_list:\n",
    "        if i > 0:            # if positive integers\n",
    "            pos_list.append(i)\n",
    "        elif i < 0:          # if negative integers\n",
    "            neg_list.append(i)\n",
    "        else:                # if zero(0)\n",
    "            count = 0        # assigning variable to count for zero\n",
    "            for num in my_list:\n",
    "                if i == num: # comparing with 0\n",
    "                    count += 1\n",
    "            if count > 1:    # since pair can be formed only if two or more zeroes are available.\n",
    "                pair = (i,i)\n",
    "            if pair not in pair_sum_zero: # to stop from repeated appending.\n",
    "                pair_sum_zero.append(pair)\n",
    "    for j in pos_list:\n",
    "        for k in neg_list:\n",
    "            if j == -k:      # comparing positive integer with negative integer after assigning '-' sign.\n",
    "                if (j,k) not in pair_sum_zero:   # checking if pair not already present.\n",
    "                    pair_sum_zero.append((j,k))\n",
    "    return pair_sum_zero\n",
    "\n",
    "func_list([1,2,3,4,5,0,0,0,-1,-2,-3,-4,-1,-2,-3,1,2,3])\n",
    "#func_list([2,2,2,3,-4,-3,-2,0,8,6,9,0,0,-2,-8,-8])"
   ]
  },
  {
   "cell_type": "code",
   "execution_count": 16,
   "metadata": {},
   "outputs": [
    {
     "data": {
      "text/plain": [
       "[(0, 0), (2, -2), (3, -3), (4, -4)]"
      ]
     },
     "execution_count": 16,
     "metadata": {},
     "output_type": "execute_result"
    }
   ],
   "source": [
    "func_list([2,3,-2,-5,4,-3,-4,6,7,0,0,-2])"
   ]
  }
 ],
 "metadata": {
  "kernelspec": {
   "display_name": "Python 3",
   "language": "python",
   "name": "python3"
  },
  "language_info": {
   "codemirror_mode": {
    "name": "ipython",
    "version": 3
   },
   "file_extension": ".py",
   "mimetype": "text/x-python",
   "name": "python",
   "nbconvert_exporter": "python",
   "pygments_lexer": "ipython3",
   "version": "3.11.4"
  }
 },
 "nbformat": 4,
 "nbformat_minor": 2
}
