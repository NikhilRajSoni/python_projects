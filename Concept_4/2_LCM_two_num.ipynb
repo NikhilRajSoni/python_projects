{
 "cells": [
  {
   "cell_type": "markdown",
   "metadata": {},
   "source": [
    "2. Given two numbers, find its Least Common Multiple (LCM)."
   ]
  },
  {
   "cell_type": "code",
   "execution_count": 1,
   "metadata": {},
   "outputs": [
    {
     "data": {
      "text/plain": [
       "36"
      ]
     },
     "execution_count": 1,
     "metadata": {},
     "output_type": "execute_result"
    }
   ],
   "source": [
    "# LCM : LCM is a least positive number that is divisible by the considered numbers. \n",
    "# defining a function to take two numbers as input.\n",
    "def func_lcm(a,b):\n",
    "    if a > 0 and b > 0:\n",
    "        if a > b:                          # finding larger number between a and b.\n",
    "            max_num = a\n",
    "        else:                              # either b is greater or both are equal then taking b to proceed.                            \n",
    "            max_num = b                   \n",
    "        for i in range(a*b,max_num-1,-1):  # iterating 'i' in reverse order till greater number.\n",
    "            if i%a == 0 and i%b == 0:      # since 'i' will be greater or equal to a or/and b; check if both a and b divide 'i'.\n",
    "                lcm = i \n",
    "\n",
    "    elif a == 0 or b == 0:                 # if any or both enteries is/are zero, lcm can't be found.\n",
    "        lcm = \"LCM can't be defined\"\n",
    "    elif a < 0 and b > 0:                  # if a is negative\n",
    "        return func_lcm(-a,b)              # changing a to -a in order to make it positive and using recursion.\n",
    "    elif a > 0 and b < 0:                  # if b is negative\n",
    "        return func_lcm(a,-b)              # changing b to -b in order to make it positive and using recursion.\n",
    "    else:                                  # both a and b are negative numbers\n",
    "        return func_lcm(-a,-b)             # changing into -a and -b, and then recursing.\n",
    "    \n",
    "\n",
    "    return lcm\n",
    "\n",
    "func_lcm(4,9)                             \n",
    "#func_lcm(-5,-13)\n",
    "#func_lcm(-4,12)\n",
    "#func_lcm(3,-9)\n",
    "#func_lcm(0,0)\n",
    "#func_lcm(5,0)\n",
    "#func_lcm(-4,0)\n",
    "#func_lcm(0,3)\n",
    "#func_lcm(0,-7)\n"
   ]
  }
 ],
 "metadata": {
  "kernelspec": {
   "display_name": "Python 3",
   "language": "python",
   "name": "python3"
  },
  "language_info": {
   "codemirror_mode": {
    "name": "ipython",
    "version": 3
   },
   "file_extension": ".py",
   "mimetype": "text/x-python",
   "name": "python",
   "nbconvert_exporter": "python",
   "pygments_lexer": "ipython3",
   "version": "3.11.4"
  }
 },
 "nbformat": 4,
 "nbformat_minor": 2
}
