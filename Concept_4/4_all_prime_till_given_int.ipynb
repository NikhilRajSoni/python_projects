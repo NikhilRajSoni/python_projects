{
 "cells": [
  {
   "cell_type": "markdown",
   "metadata": {},
   "source": [
    "4. Given a positive integer, find out all prime numbers from 1 up to this number."
   ]
  },
  {
   "cell_type": "code",
   "execution_count": 5,
   "metadata": {},
   "outputs": [
    {
     "data": {
      "text/plain": [
       "(True,\n",
       " 'Prime numbers till',\n",
       " 50,\n",
       " 'is/are',\n",
       " [2, 3, 5, 7, 11, 13, 17, 19, 23, 29, 31, 37, 41, 43, 47])"
      ]
     },
     "execution_count": 5,
     "metadata": {},
     "output_type": "execute_result"
    }
   ],
   "source": [
    "# defining a function to take any positive integer as input.\n",
    "def func_int(pos_int):\n",
    "    if pos_int == 1:             # if 1 is taken then no any prime number exists.\n",
    "        return False,\"No any prime number exists till 1 as least prime number is 2\"\n",
    "    else:\n",
    "        prime_list = []              # creating empty list to append all prime integers till the entered integer.\n",
    "        for i in range(2,pos_int+1): # started from 2 since no need to check for 1 as 2 is least prime integer.\n",
    "            factor = 0               # defining variable to count factor of the integer belonging from range of entered integer.\n",
    "            for j in range(2,int(i**0.5)+1):     # iterating loop from 2 to int(sq.root+1) of taken integer.\n",
    "                if i % j == 0:                   # checking if integers in range is completely divisible by any of integer in taken range.\n",
    "                    factor += 1                  # if comp. divisible then factor increases by 1.\n",
    "            if factor == 0:                      # comparing factor-count if zero then that integer will be prime integer.\n",
    "                prime_list.append(i)             \n",
    "    return True,\"Prime numbers till\",pos_int,\"is/are\",prime_list  \n",
    "          \n",
    "    \n",
    "func_int(50)               "
   ]
  },
  {
   "cell_type": "code",
   "execution_count": 6,
   "metadata": {},
   "outputs": [
    {
     "data": {
      "text/plain": [
       "(False, 'No any prime number exists till 1 as least prime number is 2')"
      ]
     },
     "execution_count": 6,
     "metadata": {},
     "output_type": "execute_result"
    }
   ],
   "source": [
    "func_int(1)"
   ]
  }
 ],
 "metadata": {
  "kernelspec": {
   "display_name": "Python 3",
   "language": "python",
   "name": "python3"
  },
  "language_info": {
   "codemirror_mode": {
    "name": "ipython",
    "version": 3
   },
   "file_extension": ".py",
   "mimetype": "text/x-python",
   "name": "python",
   "nbconvert_exporter": "python",
   "pygments_lexer": "ipython3",
   "version": "3.11.4"
  }
 },
 "nbformat": 4,
 "nbformat_minor": 2
}
