{
 "cells": [
  {
   "cell_type": "markdown",
   "metadata": {},
   "source": [
    "5. Given two numbers, a and b, find the value of a/b (b may be zero)."
   ]
  },
  {
   "cell_type": "code",
   "execution_count": 11,
   "metadata": {},
   "outputs": [
    {
     "name": "stdout",
     "output_type": "stream",
     "text": [
      "a = -245.0 and b = 0.0\n",
      "Ratio of a and b is not defined\n"
     ]
    }
   ],
   "source": [
    "# METHOD 1\n",
    "# Taking two numbers (need float to cover all posibility)\n",
    "\n",
    "a = float(input(\"Enter first number as a: \"))\n",
    "b = float(input(\"Enter second number as b: \"))\n",
    "print(\"a =\",a,\"and b =\",b)\n",
    "# Checking if b is not equal 0, then only ratio exists otherwise (else) if b = 0, ratio does not exist.\n",
    "if b != 0:\n",
    "    print(\"Ratio of a and b is\",a/b)\n",
    "else:             # if b = 0 then ratio cannot be defined.\n",
    "    print(\"Ratio of a and b is not defined\")   \n"
   ]
  },
  {
   "cell_type": "code",
   "execution_count": 3,
   "metadata": {},
   "outputs": [
    {
     "data": {
      "text/plain": [
       "(True, 'Ratio of a and b is:', 5.0)"
      ]
     },
     "execution_count": 3,
     "metadata": {},
     "output_type": "execute_result"
    }
   ],
   "source": [
    "# METHOD 2\n",
    "# Defining function to take two numbers for finding ratio\n",
    "def num_ratio(a,b):\n",
    "    if b != 0:        # for ratio to exist, b should not be 0\n",
    "        return True,\"Ratio of a and b is:\",a/b\n",
    "    else:             # if b = 0 then ratio cannot be defined.\n",
    "        return False,\"Ratio is not defined since b = 0 taken.\"\n",
    "    \n",
    "num_ratio(25,5)   "
   ]
  },
  {
   "cell_type": "code",
   "execution_count": 4,
   "metadata": {},
   "outputs": [
    {
     "data": {
      "text/plain": [
       "(False, 'Ratio is not defined since b = 0 taken.')"
      ]
     },
     "execution_count": 4,
     "metadata": {},
     "output_type": "execute_result"
    }
   ],
   "source": [
    "num_ratio(23,0)"
   ]
  }
 ],
 "metadata": {
  "kernelspec": {
   "display_name": "Python 3",
   "language": "python",
   "name": "python3"
  },
  "language_info": {
   "codemirror_mode": {
    "name": "ipython",
    "version": 3
   },
   "file_extension": ".py",
   "mimetype": "text/x-python",
   "name": "python",
   "nbconvert_exporter": "python",
   "pygments_lexer": "ipython3",
   "version": "3.11.4"
  }
 },
 "nbformat": 4,
 "nbformat_minor": 2
}
