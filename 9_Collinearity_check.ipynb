{
 "cells": [
  {
   "cell_type": "markdown",
   "metadata": {},
   "source": [
    "9. Given three points, find out whether they lie on the same straight line or not."
   ]
  },
  {
   "cell_type": "code",
   "execution_count": 1,
   "metadata": {},
   "outputs": [
    {
     "name": "stdout",
     "output_type": "stream",
     "text": [
      "first point: (-5.0, 5.0)\n",
      "second point: (-5.0, 5.0)\n",
      "third point: (-5.0, 5.0)\n",
      "All three points entered are same, hence it is a single point.\n"
     ]
    }
   ],
   "source": [
    "# METHOD 1\n",
    "# taking three points as float value\n",
    "\n",
    "x1 = float(input(\"Enter number\"))\n",
    "y1 = float(input(\"Enter number\"))\n",
    "print(\"first point:\", (x1,y1))\n",
    "\n",
    "x2 = float(input(\"Enter number\"))\n",
    "y2 = float(input(\"Enter number\"))\n",
    "print(\"second point:\", (x2,y2))\n",
    "\n",
    "x3 = float(input(\"Enter number\"))\n",
    "y3 = float(input(\"Enter number\"))\n",
    "print(\"third point:\", (x3,y3))\n",
    "\n",
    "# if all the coordinates are same then it is single point\n",
    "if x1 == x2 and x1 == x3 and y1 == y2 and y1 == y3:\n",
    "    print(\"All three points entered are same, hence it is a single point.\")\n",
    "\n",
    "else:\n",
    "    # if all points are not same then finding area through matrix formula method\n",
    "    area = x1*(y2-y3)+x2*(y3-y1)+x3*(y1-y2)\n",
    "    # if area = 0, then points are on stratight line means collinear\n",
    "    if area == 0:\n",
    "        print(\"points are on a straight line.\")\n",
    "    else:\n",
    "        # if area is not 0, then cheking either area value is negative or positive. \n",
    "        # if negative then multiply by -1 because area can't be negative\n",
    "        if area > 0:\n",
    "            print(\"Points are not collinear and forming triangle of area =\",area)\n",
    "        else:\n",
    "            print(\"Points are not collinear and forming triangle of area =\",(-1)*area)"
   ]
  },
  {
   "cell_type": "code",
   "execution_count": 2,
   "metadata": {},
   "outputs": [],
   "source": [
    "# METHOD 2\n",
    "# Defining function to take six input for taking three points.\n",
    "def str_line_check(x1,y1,x2,y2,x3,y3):\n",
    "    # if all the coordinates are same then it is single point\n",
    "    if x1 == x2 and x1 == x3 and y1 == y2 and y1 == y3:\n",
    "        return False,\"All three points entered are same, hence it is a single point.\"\n",
    "\n",
    "    else:\n",
    "        # if all points are not same then finding area through matrix formula method\n",
    "        area = x1*(y2-y3)+x2*(y3-y1)+x3*(y1-y2)\n",
    "        # if area = 0, then points are on stratight line means collinear\n",
    "        if area == 0:\n",
    "            return True,\"points are on a straight line.\"\n",
    "        else:\n",
    "            # if area is not 0, then cheking either area value is negative or positive. \n",
    "            # if negative then multiply by -1 because area can't be negative\n",
    "            if area > 0:\n",
    "                return False,\"Points are not collinear and forming triangle of area =\",area\n",
    "            else:\n",
    "                return False,\"Points are not collinear and forming triangle of area =\",(-1)*area"
   ]
  },
  {
   "cell_type": "code",
   "execution_count": 3,
   "metadata": {},
   "outputs": [
    {
     "data": {
      "text/plain": [
       "('Points are not collinear and forming triangle of area =', 37)"
      ]
     },
     "execution_count": 3,
     "metadata": {},
     "output_type": "execute_result"
    }
   ],
   "source": [
    "str_line_check(2,3,6,8,-3,6)"
   ]
  }
 ],
 "metadata": {
  "kernelspec": {
   "display_name": "Python 3",
   "language": "python",
   "name": "python3"
  },
  "language_info": {
   "codemirror_mode": {
    "name": "ipython",
    "version": 3
   },
   "file_extension": ".py",
   "mimetype": "text/x-python",
   "name": "python",
   "nbconvert_exporter": "python",
   "pygments_lexer": "ipython3",
   "version": "3.11.4"
  }
 },
 "nbformat": 4,
 "nbformat_minor": 2
}
