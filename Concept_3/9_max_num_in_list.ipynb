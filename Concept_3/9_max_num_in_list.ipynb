{
 "cells": [
  {
   "cell_type": "markdown",
   "metadata": {},
   "source": [
    "9. Given a list of numbers, find out the maximum number."
   ]
  },
  {
   "cell_type": "code",
   "execution_count": 4,
   "metadata": {},
   "outputs": [
    {
     "data": {
      "text/plain": [
       "(False, \"Maximum number can't be found in empty list\")"
      ]
     },
     "execution_count": 4,
     "metadata": {},
     "output_type": "execute_result"
    }
   ],
   "source": [
    "# Defining a function to take any list of numbers from user.\n",
    "def func_list(my_list):\n",
    "    list_len = 0                            # variable defined to calculate length\n",
    "    for i in my_list:\n",
    "        list_len += 1                       # increasement in length as numbers are iterated one by one.\n",
    "    if list_len == 0:                       # comparing if length is 0 then max number can't be found as no comparison take place.\n",
    "        return False,\"Maximum number can't be found in empty list\"\n",
    "    else:                                   # if length is none zero \n",
    "        max_num = my_list[0]                # assigning 0th index as maximum number in order to start comparison.\n",
    "        for j in my_list:\n",
    "            if j > max_num:                 # comparing each number one by one first with 0th index and further on and modifying changes\n",
    "                max_num = j\n",
    "        return True,\"Maximum number in the list is: \",max_num\n",
    "\n",
    "func_list([])"
   ]
  },
  {
   "cell_type": "code",
   "execution_count": 5,
   "metadata": {},
   "outputs": [
    {
     "data": {
      "text/plain": [
       "(True, 'Maximum number in the list is: ', 9)"
      ]
     },
     "execution_count": 5,
     "metadata": {},
     "output_type": "execute_result"
    }
   ],
   "source": [
    "func_list([2,8,-11,9,4,7])"
   ]
  },
  {
   "cell_type": "code",
   "execution_count": 6,
   "metadata": {},
   "outputs": [
    {
     "data": {
      "text/plain": [
       "(True, 'Maximum number in the list is: ', 0)"
      ]
     },
     "execution_count": 6,
     "metadata": {},
     "output_type": "execute_result"
    }
   ],
   "source": [
    "func_list([0])"
   ]
  },
  {
   "cell_type": "code",
   "execution_count": 9,
   "metadata": {},
   "outputs": [
    {
     "data": {
      "text/plain": [
       "(True, 'Maximum number in the list is: ', 3.1)"
      ]
     },
     "execution_count": 9,
     "metadata": {},
     "output_type": "execute_result"
    }
   ],
   "source": [
    "func_list([-1.536, -4.8, -3.897, 0, 1.002, 3.100])"
   ]
  }
 ],
 "metadata": {
  "kernelspec": {
   "display_name": "Python 3",
   "language": "python",
   "name": "python3"
  },
  "language_info": {
   "codemirror_mode": {
    "name": "ipython",
    "version": 3
   },
   "file_extension": ".py",
   "mimetype": "text/x-python",
   "name": "python",
   "nbconvert_exporter": "python",
   "pygments_lexer": "ipython3",
   "version": "3.11.4"
  }
 },
 "nbformat": 4,
 "nbformat_minor": 2
}
