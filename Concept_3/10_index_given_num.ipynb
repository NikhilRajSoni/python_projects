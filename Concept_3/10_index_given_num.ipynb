{
 "cells": [
  {
   "cell_type": "markdown",
   "metadata": {},
   "source": [
    "10. Given a list of numbers, find out the index of another given number."
   ]
  },
  {
   "cell_type": "code",
   "execution_count": 21,
   "metadata": {},
   "outputs": [
    {
     "name": "stdout",
     "output_type": "stream",
     "text": [
      "index of entered number = 1.0 is: 6\n",
      "index of entered number = 1.0 is: 7\n",
      "index of entered number = 1.0 is: 8\n"
     ]
    }
   ],
   "source": [
    "# Defining a function to take list of numbers from user.\n",
    "def func_list(my_list):\n",
    "    num_check = float(input(\"Enter any number: \"))       # taking a number as input from user to find index value.\n",
    "    if num_check in my_list:\n",
    "        index = 0                                            # defining variable to start index value from 0 for numbers in list.\n",
    "        for i in my_list:\n",
    "            if num_check == i:                               # comparing if enterd number is equal to the number comes after iterating\n",
    "                print(\"index of entered number =\",num_check,\"is:\",index)    # since entered number may have appeared for one or more time.\n",
    "            index += 1             # Checking that number throughout the list so index increases by 1 each time.\n",
    "    \n",
    "    else:                          # if entered number is not found then it is not in the list.\n",
    "        return num_check,\"is not found in the list.\"\n",
    "func_list([-24,0,5.24,647,5.24,0,1.0,1,1,20])\n"
   ]
  },
  {
   "cell_type": "code",
   "execution_count": 22,
   "metadata": {},
   "outputs": [
    {
     "data": {
      "text/plain": [
       "(5.0, 'is not found in the list.')"
      ]
     },
     "execution_count": 22,
     "metadata": {},
     "output_type": "execute_result"
    }
   ],
   "source": [
    "func_list([0])"
   ]
  }
 ],
 "metadata": {
  "kernelspec": {
   "display_name": "Python 3",
   "language": "python",
   "name": "python3"
  },
  "language_info": {
   "codemirror_mode": {
    "name": "ipython",
    "version": 3
   },
   "file_extension": ".py",
   "mimetype": "text/x-python",
   "name": "python",
   "nbconvert_exporter": "python",
   "pygments_lexer": "ipython3",
   "version": "3.11.4"
  }
 },
 "nbformat": 4,
 "nbformat_minor": 2
}
