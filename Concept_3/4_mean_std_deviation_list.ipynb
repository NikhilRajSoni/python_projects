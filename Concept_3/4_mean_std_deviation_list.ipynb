{
 "cells": [
  {
   "cell_type": "markdown",
   "metadata": {},
   "source": [
    "4. Given a list of numbers, find out the mean and standard deviation."
   ]
  },
  {
   "cell_type": "code",
   "execution_count": 2,
   "metadata": {},
   "outputs": [
    {
     "data": {
      "text/plain": [
       "('Standard Deviation is:', 0.0, 'Mean is:', 5.0)"
      ]
     },
     "execution_count": 2,
     "metadata": {},
     "output_type": "execute_result"
    }
   ],
   "source": [
    "# Defining a function to take list of numbers of any length\n",
    "def func_list(my_list):\n",
    "    list_len = 0  # defining variable to measure length of list\n",
    "    list_sum = 0  # defining variable to store sum of list elements\n",
    "    devsn_sum = 0  # defining variable to store (mean-i)^2/length of list\n",
    "\n",
    "    for i in my_list:\n",
    "        list_len += 1  # iterating and counting elements\n",
    "        list_sum += i   # adding all elements/numbers\n",
    "    \n",
    "    if list_len == 0:  # Case: if length will be zero then no deviation can be found\n",
    "        return False,\"Standard Deviation and mean cann't be find here.\"\n",
    "    else:     # Case: if length none zero\n",
    "        # calculating mean by formula\n",
    "        mean_list = list_sum/list_len \n",
    "        # Calculating standard deviation using formula \n",
    "        devsn_sum += ((mean_list - i)**2)    \n",
    "        deviation = (devsn_sum//list_len) ** 0.5   \n",
    "    return \"Standard Deviation is:\",deviation ,\"Mean is:\",mean_list\n",
    "\n",
    "func_list([5,5,5,5])"
   ]
  },
  {
   "cell_type": "code",
   "execution_count": 3,
   "metadata": {},
   "outputs": [
    {
     "data": {
      "text/plain": [
       "('Standard Deviation is:', 1.7320508075688772, 'Mean is:', 4.0)"
      ]
     },
     "execution_count": 3,
     "metadata": {},
     "output_type": "execute_result"
    }
   ],
   "source": [
    "func_list([1,2,4,5,8])"
   ]
  },
  {
   "cell_type": "code",
   "execution_count": 4,
   "metadata": {},
   "outputs": [
    {
     "data": {
      "text/plain": [
       "(False, \"Standard Deviation and mean cann't be find here.\")"
      ]
     },
     "execution_count": 4,
     "metadata": {},
     "output_type": "execute_result"
    }
   ],
   "source": [
    "func_list([])"
   ]
  }
 ],
 "metadata": {
  "kernelspec": {
   "display_name": "Python 3",
   "language": "python",
   "name": "python3"
  },
  "language_info": {
   "codemirror_mode": {
    "name": "ipython",
    "version": 3
   },
   "file_extension": ".py",
   "mimetype": "text/x-python",
   "name": "python",
   "nbconvert_exporter": "python",
   "pygments_lexer": "ipython3",
   "version": "3.11.4"
  }
 },
 "nbformat": 4,
 "nbformat_minor": 2
}
