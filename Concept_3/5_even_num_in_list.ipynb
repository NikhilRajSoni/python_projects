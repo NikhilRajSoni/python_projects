{
 "cells": [
  {
   "cell_type": "markdown",
   "metadata": {},
   "source": [
    "5. Given a list of numbers, find all the even numbers in it."
   ]
  },
  {
   "cell_type": "code",
   "execution_count": 3,
   "metadata": {},
   "outputs": [
    {
     "data": {
      "text/plain": [
       "(True, 'Even numbers in the list is/are: ', [6, 8, -6, 0, 2.0])"
      ]
     },
     "execution_count": 3,
     "metadata": {},
     "output_type": "execute_result"
    }
   ],
   "source": [
    "# METHOD 1\n",
    "# Defining a function to take list of numbers from user.\n",
    "def func_list(my_list):\n",
    "    even_num = []    # creating empty list to store even numbers from list.\n",
    "    for i in my_list:\n",
    "        if i%2 == 0:   # iterating loop in list and checking each numbers if completely divisible by 2.\n",
    "            even_num.append(i)     # appending the satisfied numbers to created list.\n",
    "\n",
    "    even_count = 0     # defining variable to count even numbers.\n",
    "    for i in even_num:\n",
    "        even_count += 1  \n",
    "    if even_count > 0:  # if counting of even numbers is greater than 0.\n",
    "        return True,\"Even numbers in the list is/are: \",even_num\n",
    "    else:           # if list is empty.\n",
    "        return False,\"none\"\n",
    "\n",
    "func_list([3, 6, 8, -6, 0, -5,2.0])"
   ]
  },
  {
   "cell_type": "code",
   "execution_count": 2,
   "metadata": {},
   "outputs": [
    {
     "data": {
      "text/plain": [
       "'none'"
      ]
     },
     "execution_count": 2,
     "metadata": {},
     "output_type": "execute_result"
    }
   ],
   "source": [
    "func_list([1,3,5,-5])"
   ]
  },
  {
   "cell_type": "code",
   "execution_count": 3,
   "metadata": {},
   "outputs": [
    {
     "data": {
      "text/plain": [
       "'none'"
      ]
     },
     "execution_count": 3,
     "metadata": {},
     "output_type": "execute_result"
    }
   ],
   "source": [
    "func_list([])"
   ]
  },
  {
   "cell_type": "code",
   "execution_count": 4,
   "metadata": {},
   "outputs": [
    {
     "name": "stdout",
     "output_type": "stream",
     "text": [
      "Even numbers in the list is/are: \n",
      "6\n",
      "8\n",
      "-6\n",
      "0\n"
     ]
    }
   ],
   "source": [
    "# METHOD 2\n",
    "# Defining a function to take list of numbers from user.\n",
    "def func_list(my_list):\n",
    "    print(\"Even numbers in the list is/are: \")       # Printing command to fetch even numbers only. return() will stop till here only\n",
    "\n",
    "    for i in my_list:\n",
    "        if i%2 == 0:                                 # iterating loop in list and checking each numbers if completely divisible by 2.\n",
    "            print(i)                                 # print() is used to fetch all even numbers one by one\n",
    "\n",
    "func_list([3, 6, 8, -6, 0, -5])\n"
   ]
  }
 ],
 "metadata": {
  "kernelspec": {
   "display_name": "Python 3",
   "language": "python",
   "name": "python3"
  },
  "language_info": {
   "codemirror_mode": {
    "name": "ipython",
    "version": 3
   },
   "file_extension": ".py",
   "mimetype": "text/x-python",
   "name": "python",
   "nbconvert_exporter": "python",
   "pygments_lexer": "ipython3",
   "version": "3.11.4"
  }
 },
 "nbformat": 4,
 "nbformat_minor": 2
}
