{
 "cells": [
  {
   "cell_type": "markdown",
   "metadata": {},
   "source": [
    "8. Given a list of numbers, create another list in reverse order."
   ]
  },
  {
   "cell_type": "code",
   "execution_count": 4,
   "metadata": {},
   "outputs": [
    {
     "data": {
      "text/plain": [
       "('Reverse order list is: ', [915, 78, -45, 7, 2, -4])"
      ]
     },
     "execution_count": 4,
     "metadata": {},
     "output_type": "execute_result"
    }
   ],
   "source": [
    "# METHOD 1\n",
    "# defining a function to take any list as input.\n",
    "def func_list(my_list):\n",
    "    len_list = 0   # defining variable to measure length of list.\n",
    "    for i in my_list:\n",
    "        len_list += 1\n",
    "\n",
    "    reverse_list = []     # creating empty list for getting reverse order list.\n",
    "    for i in range(1, len_list + 1):      # running loop till length of list as last element does not get fetched so +1 is added.\n",
    "        reverse_list.append(my_list[-i])    # appending each element from last to first in the cretaed list.\n",
    "    return \"Reverse order list is: \",reverse_list\n",
    "\n",
    "func_list([-4,2,7,-45,78,915])\n"
   ]
  },
  {
   "cell_type": "code",
   "execution_count": 5,
   "metadata": {},
   "outputs": [
    {
     "data": {
      "text/plain": [
       "('Reverse order list is: ', [-27.23, 9.366, -4, 2, 7, 4, 9])"
      ]
     },
     "execution_count": 5,
     "metadata": {},
     "output_type": "execute_result"
    }
   ],
   "source": [
    "# METHOD 2\n",
    "# defining a function to take any list as input\n",
    "def func_list(my_list):\n",
    "    reverse_list = my_list[::-1] # method to fetch numbers from last to first and storing in another list.\n",
    "    return \"Reverse order list is: \",reverse_list\n",
    "\n",
    "func_list([9,4,7,2,-4,9.366,-27.23])"
   ]
  }
 ],
 "metadata": {
  "kernelspec": {
   "display_name": "Python 3",
   "language": "python",
   "name": "python3"
  },
  "language_info": {
   "codemirror_mode": {
    "name": "ipython",
    "version": 3
   },
   "file_extension": ".py",
   "mimetype": "text/x-python",
   "name": "python",
   "nbconvert_exporter": "python",
   "pygments_lexer": "ipython3",
   "version": "3.11.4"
  }
 },
 "nbformat": 4,
 "nbformat_minor": 2
}
