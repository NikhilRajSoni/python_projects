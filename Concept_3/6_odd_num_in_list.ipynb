{
 "cells": [
  {
   "cell_type": "markdown",
   "metadata": {},
   "source": [
    "6. Given a list of numbers, find all the odd numbers in it."
   ]
  },
  {
   "cell_type": "code",
   "execution_count": 19,
   "metadata": {},
   "outputs": [
    {
     "data": {
      "text/plain": [
       "(True, 'Odd numbers in the list is/are: ', [-5, 3, 9])"
      ]
     },
     "execution_count": 19,
     "metadata": {},
     "output_type": "execute_result"
    }
   ],
   "source": [
    "# METHOD 1\n",
    "# Defining a function to take list of numbers from user.\n",
    "def func_list(my_list):\n",
    "    odd_num = []      # creating empty list to store odd numbers from list\n",
    "    for i in my_list:\n",
    "        if type(i) is int:\n",
    "            if i%2 != 0:     # iterating loop in list and checking each numbers if not completely divisible by 2.\n",
    "                odd_num.append(i)      # appending the satisfied numbers to created list\n",
    "\n",
    "    odd_num_count = 0\n",
    "    for i in odd_num:\n",
    "        odd_num_count += 1\n",
    "    \n",
    "    if odd_num_count > 0:\n",
    "        return True,\"Odd numbers in the list is/are: \",odd_num\n",
    "    else:\n",
    "        return False,\"None\"\n",
    "\n",
    "func_list([-5, 0, 3, 6, 8, 1.11, -5.25, 9])"
   ]
  },
  {
   "cell_type": "code",
   "execution_count": 20,
   "metadata": {},
   "outputs": [
    {
     "data": {
      "text/plain": [
       "(False, 'None')"
      ]
     },
     "execution_count": 20,
     "metadata": {},
     "output_type": "execute_result"
    }
   ],
   "source": [
    "func_list([-2,-4,0,4,-2.56,1.1])"
   ]
  },
  {
   "cell_type": "code",
   "execution_count": 21,
   "metadata": {},
   "outputs": [
    {
     "data": {
      "text/plain": [
       "(False, 'None')"
      ]
     },
     "execution_count": 21,
     "metadata": {},
     "output_type": "execute_result"
    }
   ],
   "source": [
    "func_list([])"
   ]
  },
  {
   "cell_type": "code",
   "execution_count": 23,
   "metadata": {},
   "outputs": [
    {
     "name": "stdout",
     "output_type": "stream",
     "text": [
      "Odd numbers in the list is/are: \n",
      "-11\n",
      "-1\n",
      "3\n"
     ]
    }
   ],
   "source": [
    "# METHOD 2\n",
    "# Defining a function to take list of numbers from user.\n",
    "def func_list(my_list):\n",
    "    print(\"Odd numbers in the list is/are: \")        # Printing command to fetch odd numbers only. return() will stop till here only\n",
    "\n",
    "    for i in my_list:\n",
    "        if type(i) is int:\n",
    "            if i%2 != 0:                                 # iterating loop in list and checking each numbers if not completely divisible by 2.\n",
    "                print(i)                                 # print() is used to fetch all odd numbers one by one\n",
    "\n",
    "func_list([-11, -1, 0, -8, 3, 6, 1.8, -1.34])"
   ]
  }
 ],
 "metadata": {
  "kernelspec": {
   "display_name": "Python 3",
   "language": "python",
   "name": "python3"
  },
  "language_info": {
   "codemirror_mode": {
    "name": "ipython",
    "version": 3
   },
   "file_extension": ".py",
   "mimetype": "text/x-python",
   "name": "python",
   "nbconvert_exporter": "python",
   "pygments_lexer": "ipython3",
   "version": "3.11.4"
  }
 },
 "nbformat": 4,
 "nbformat_minor": 2
}
